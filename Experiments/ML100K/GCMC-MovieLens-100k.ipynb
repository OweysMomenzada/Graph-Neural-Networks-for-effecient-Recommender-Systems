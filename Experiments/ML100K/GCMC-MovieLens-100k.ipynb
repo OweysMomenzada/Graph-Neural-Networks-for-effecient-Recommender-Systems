{
 "cells": [
  {
   "cell_type": "markdown",
   "metadata": {},
   "source": [
    "## MovieLens 100K Datensatz ohne Features \n",
    "\n",
    "Entnommen wurde der Datensatz aus https://grouplens.org/datasets/movielens/100k/. Dieser ist der **10-Core**\n",
    "MovieLens Datensatz mit 100.000 Bewertungen. \n",
    "\n",
    "**Datensatz-Quelle:** <br />\n",
    "F. Maxwell Harper and Joseph A. Konstan. 2015. The MovieLens Datasets:<br />\n",
    "History and Context. ACM Transactions on Interactive Intelligent<br />\n",
    "Systems (TiiS) 5, 4, Article 19 (December 2015), 19 pages.<br />\n",
    "DOI=http://dx.doi.org/10.1145/2827872\n",
    "\n",
    "Die Implementation des Mini-Batche-Samplings (<i>class MinibatchSampler</i>) und des GCMC-Modells wurde (<i>class GCMCConv, class GCMCLayer, GCMCRating </i>) von der DGL-Library für das MovieLens Datenset (mit Features) zur Verfügung gestellt. In diesem Notebook wurde die Implementation so geändert, dass Vorhersagen auch ohne die nötigen Features berechnet werden können.\n",
    "\n",
    "**DGL:**<br />\n",
    "Minjie Wang and Da Zheng and Zihao Ye and Quan Gan and Mufei Li and Xiang Song and Jinjing Zhou and Chao Ma and Lingfan Yu and Yu Gai and Tianjun Xiao and Tong He and George Karypis and Jinyang Li and Zheng Zhang (2019): <br />\n",
    "Deep Graph Library: A Graph-Centric, Highly-Performant Package for Graph Neural Networks <br />\n",
    "arXiv preprint arXiv = 1909.01315\n",
    "\n",
    "\n",
    "**Implementation eines Collaborativen Recommender Systems:** <br />\n",
    "Bei diesem Informationssystem handelt es sich um ein Collaborative Filtering Recommender System.\n",
    "Hier werden also keine weitere Daten außer Ratings, User-IDs und Item-IDs verwendet.\n"
   ]
  },
  {
   "cell_type": "code",
   "execution_count": 1,
   "metadata": {},
   "outputs": [
    {
     "name": "stderr",
     "output_type": "stream",
     "text": [
      "Using backend: pytorch\n"
     ]
    }
   ],
   "source": [
    "# Import des Datensatzes und der nötigen Bibliotheken\n",
    "import pandas as pd\n",
    "\n",
    "import torch\n",
    "from torch.utils.data import TensorDataset, DataLoader\n",
    "from torch import nn\n",
    "import torch.nn.functional as F\n",
    "\n",
    "import dgl\n",
    "import dgl.function as fn\n",
    "import dgl.nn as dglnn\n",
    "\n",
    "from timeit import default_timer as timer\n",
    "from datetime import timedelta\n",
    "import math\n",
    "\n",
    "# Datensatzvorbereitung\n",
    "users = pd.read_csv('u.user', sep='|', header = None, encoding='latin-1',\n",
    "                    names=['userId','alter','geschlecht', 'beruf','PLZ']) # mit | trennen damit Spalten generiert werden\n",
    "\n",
    "movies = pd.read_csv('u.item', sep='|', header = None,encoding='latin-1', \n",
    "                     names=['itemId','title','veröffentlichung', 'NaN',\n",
    "                            'links', 'unknown','action', 'adventure', 'animation',\n",
    "                            'childrens','comedy', 'crime', 'documentary',\n",
    "                            'drama', 'fantasy', 'filmnoir', 'horror', 'musical',\n",
    "                            'mystery', 'romance', 'scifi', 'thriller', 'war',\n",
    "                            'western']) \n",
    "\n",
    "trainset = pd.read_csv('ua.base', sep='\\t', header = None,\n",
    "                       names=['userId', 'itemId', 'rating', 'timestamp']) # mit \\t trennen damit Spalten generiert werden\n",
    "\n",
    "testset = pd.read_csv('ua.test', sep='\\t', header = None, \n",
    "                      names=['userId', 'itemId', 'rating', 'timestamp'])"
   ]
  },
  {
   "cell_type": "code",
   "execution_count": 2,
   "metadata": {},
   "outputs": [],
   "source": [
    "# Entfernung von allen Features (sowohl demographisch als auch content-based)\n",
    "del trainset['timestamp']\n",
    "del testset['timestamp']\n",
    "del users['PLZ']\n",
    "del users['beruf']\n",
    "del users['geschlecht']\n",
    "del users['alter']\n",
    "del movies['title']\n",
    "del movies['veröffentlichung']\n",
    "del movies['NaN']\n",
    "del movies['links']\n",
    "del movies['unknown']\n",
    "del movies['action']\n",
    "del movies['adventure']\n",
    "del movies['animation']\n",
    "del movies['childrens']\n",
    "del movies['comedy']\n",
    "del movies['crime']\n",
    "del movies['documentary']\n",
    "del movies['drama']\n",
    "del movies['fantasy']\n",
    "del movies['filmnoir']\n",
    "del movies['horror']\n",
    "del movies['musical']\n",
    "del movies['mystery']\n",
    "del movies['romance']\n",
    "del movies['scifi']\n",
    "del movies['thriller']\n",
    "del movies['war']\n",
    "del movies['western']"
   ]
  },
  {
   "cell_type": "code",
   "execution_count": 3,
   "metadata": {},
   "outputs": [],
   "source": [
    "# Datensatzvorbereitung\n",
    "\n",
    "# entferne Items von testset die nicht im trainset sind. \n",
    "ueberschussTests = list(set(testset['itemId']).difference(set(trainset['itemId']))) #speichere differenz der Menge\n",
    "i = 0\n",
    "while i< len(ueberschussTests):  \n",
    "    index = list(testset['itemId']).index(ueberschussTests[i]) #speichere Index vom Ueberschuss\n",
    "    testset = testset.drop([index]) #lösche Items die überschüssig sind. \n",
    "    i = i+1\n",
    "\n",
    "# entferne Items von movies die nicht im trainset sind.\n",
    "ueberschussMovies = list(set(movies['itemId']).difference(set(trainset['itemId']))) #speichere Differenz der Menge\n",
    "i = 0\n",
    "while i< len(ueberschussMovies):  \n",
    "    index = list(movies['itemId']).index(ueberschussMovies[i])\n",
    "    movies = movies.drop([index]) # lösche Items die überschüssig sind. \n",
    "    i = i+1"
   ]
  },
  {
   "cell_type": "markdown",
   "metadata": {},
   "source": [
    "### Konstruiere bipartiten Graphen"
   ]
  },
  {
   "cell_type": "code",
   "execution_count": 4,
   "metadata": {},
   "outputs": [],
   "source": [
    "# Erstellt einen Tensor aus einer Liste. Ordnet Werte der Liste\n",
    "# zu Unique-Values zu, falls bool = True. Sonst nicht.\n",
    "def buildTensor(list, bool): \n",
    "\n",
    "    if bool:\n",
    "        list = torch.LongTensor(list.astype('category')\n",
    "                                .cat.codes.values) # Konvertiere zu category damit cat.codes ausgeführt werden kann.\n",
    "    else:\n",
    "        list = torch.LongTensor(list.values)\n",
    "    return list"
   ]
  },
  {
   "cell_type": "code",
   "execution_count": 5,
   "metadata": {},
   "outputs": [
    {
     "name": "stdout",
     "output_type": "stream",
     "text": [
      "Graph(num_nodes={'item': 1680, 'user': 943},\n",
      "      num_edges={('item', 'rated-by', 'user'): 90570, ('user', 'rated', 'item'): 90570},\n",
      "      metagraph=[('item', 'user', 'rated-by'), ('user', 'item', 'rated')])\n"
     ]
    },
    {
     "name": "stderr",
     "output_type": "stream",
     "text": [
      "C:\\Users\\PCOvice\\anaconda3\\lib\\site-packages\\ipykernel_launcher.py:3: UserWarning: The given NumPy array is not writeable, and PyTorch does not support non-writeable tensors. This means you can write to the underlying (supposedly non-writeable) NumPy array using the tensor. You may want to copy the array to protect its data or make it writeable before converting it to a tensor. This type of warning will be suppressed for the rest of this program. (Triggered internally at  ..\\torch\\csrc\\utils\\tensor_numpy.cpp:141.)\n",
      "  This is separate from the ipykernel package so we can avoid doing imports until\n"
     ]
    }
   ],
   "source": [
    "# Bilde Tensoren User und Item für den Graphen\n",
    "# Zuordnung der Ids, da diese bei 1 Anfangen und nicht bei 0.\n",
    "userId = torch.LongTensor(trainset['userId'].astype('category').cat.codes.values) \n",
    "itemId = torch.LongTensor(trainset['itemId'].astype('category').cat.codes.values) \n",
    "\n",
    "# Bilde Tensoren User und Item zum Testen des Graphens\n",
    "userIdTest = torch.LongTensor(testset['userId'].astype('category').cat.codes.values) \n",
    "itemIdTest = torch.LongTensor(testset['itemId'].astype('category').cat.codes.values) \n",
    "\n",
    "# Erstelle bipartiten Graphen\n",
    "graph = dgl.heterograph({\n",
    "    ('user', 'rated', 'item'): (userId, itemId),\n",
    "    # In DGL exestieren nur gerichtete Graphen. Daher wird\n",
    "    # dies über beide Richtungen definiert\n",
    "    ('item', 'rated-by', 'user'): (itemId, userId)\n",
    "})\n",
    " \n",
    "print(graph) # Info über Graphen"
   ]
  },
  {
   "cell_type": "markdown",
   "metadata": {},
   "source": [
    "### Füge Ratings in die Kanten hinzu"
   ]
  },
  {
   "cell_type": "code",
   "execution_count": 6,
   "metadata": {},
   "outputs": [],
   "source": [
    "bewertungen = buildTensor(trainset['rating'], False)\n",
    "bewertungenTest = buildTensor(testset['rating'], False) # Für spätere Testzwecke\n",
    "graph.edges['rated'].data['rating'] = bewertungen\n",
    "graph.edges['rated-by'].data['rating'] = bewertungen"
   ]
  },
  {
   "cell_type": "markdown",
   "metadata": {},
   "source": [
    "### Definiere Train und Testsets als Tensor für das Modell"
   ]
  },
  {
   "cell_type": "code",
   "execution_count": 7,
   "metadata": {},
   "outputs": [],
   "source": [
    "# Definiere Test und Trainset für das Modell über Tensoren\n",
    "tensorTrainset = TensorDataset(userId, itemId, bewertungen)\n",
    "tensorTestset = TensorDataset(userIdTest, itemIdTest, bewertungenTest)"
   ]
  },
  {
   "cell_type": "markdown",
   "metadata": {},
   "source": [
    "### Erstellung von Minibatches & Neighbor Sampling"
   ]
  },
  {
   "cell_type": "code",
   "execution_count": 8,
   "metadata": {},
   "outputs": [],
   "source": [
    "# Ausführung des Mini-Batchings\n",
    "class MinibatchSampler(object):\n",
    "\n",
    "    def __init__(self, graph, num_layers):\n",
    "        self.graph = graph\n",
    "        self.num_layers = num_layers\n",
    "        \n",
    "    # Finde die nötigen Knoten und konstruiere den Pair Graphen\n",
    "    def sample(self, batch):\n",
    "        # Konvertiere die Liste des Batches (Trainset) in 3 verschiedenen Vektoren.\n",
    "        users, items, ratings = zip(*batch)\n",
    "        users = torch.stack(users)\n",
    "        items = torch.stack(items)\n",
    "        ratings = torch.stack(ratings)\n",
    "        \n",
    "        # Konstruiere Bipartiten-Graph auf Grundlage des Batches.\n",
    "        pair_graph = dgl.heterograph(\n",
    "            {('user', 'rated', 'item'): (users, items)},\n",
    "            num_nodes_dict={'user': self.graph.number_of_nodes('user'), 'item': self.graph.number_of_nodes('item')})\n",
    "        \n",
    "        pair_graph = dgl.compact_graphs(pair_graph) # Löscht Knoten die für das Sampling nicht genutzt werden.\n",
    "        pair_graph.edata['rating'] = ratings # Füge die Ratings in die Sampling-Edges hinzu.\n",
    "        \n",
    "        # Konstruiere Blocks\n",
    "        seeds = {'user': pair_graph.nodes['user'].data[dgl.NID], # Bestimme Seed-nodes über NID (Note-ID)\n",
    "                 'item': pair_graph.nodes['item'].data[dgl.NID]}\n",
    "        blocks = self.construct_blocks(seeds, (users, items)) # Hier werden Blöcke für die Seed-nodes konstruiert.\n",
    "        \n",
    "        # Speichert Node-Features vom Input Graphen in die Samplings.\n",
    "        for feature_name in self.graph.nodes['user'].data.keys():\n",
    "            blocks[0].srcnodes['user'].data[feature_name] = \\\n",
    "                self.graph.nodes['user'].data[feature_name][blocks[0].srcnodes['user'].data[dgl.NID]] \n",
    "            \n",
    "        for feature_name in self.graph.nodes['item'].data.keys():\n",
    "            blocks[0].srcnodes['item'].data[feature_name] = \\\n",
    "                self.graph.nodes['item'].data[feature_name][blocks[0].srcnodes['item'].data[dgl.NID]]\n",
    "        \n",
    "        # Ergebnis ist ein Mini-Batch\n",
    "        return pair_graph, blocks \n",
    "    \n",
    "    \n",
    "    # Berechne den Block\n",
    "    def construct_blocks(self, seeds, user_item_pairs_to_remove):\n",
    "        blocks = []\n",
    "        users, items = user_item_pairs_to_remove\n",
    "        for i in range(self.num_layers):\n",
    "            \n",
    "            # übernimmt alle Nachbarn von den Seed-Nodes\n",
    "            sampled_graph = dgl.in_subgraph(self.graph, seeds) \n",
    "            # Sampling für beide Richtungen finden.\n",
    "            sampled_eids = sampled_graph.edges['rated'].data[dgl.EID]\n",
    "            sampled_eids_rev = sampled_graph.edges['rated-by'].data[dgl.EID]\n",
    "            \n",
    "            # Hier werden die Kanten entfernt die nicht im Training-Prozess benötigt werden. \n",
    "            _, _, edges_to_remove = sampled_graph.edge_ids(users, items, etype='rated', return_uv=True)  \n",
    "            _, _, edges_to_remove_rev = sampled_graph.edge_ids(items, users, etype='rated-by', return_uv=True)\n",
    "            \n",
    "            sampled_with_edges_removed = sampled_graph\n",
    "            if len(edges_to_remove) > 0:\n",
    "                sampled_with_edges_removed = dgl.remove_edges(\n",
    "                    sampled_with_edges_removed, edges_to_remove, 'rated')\n",
    "                sampled_eids = sampled_eids[sampled_with_edges_removed.edges['rated'].data[dgl.EID]]\n",
    "                \n",
    "            if len(edges_to_remove_rev) > 0:\n",
    "                sampled_with_edges_removed = dgl.remove_edges(\n",
    "                    sampled_with_edges_removed, edges_to_remove_rev, 'rated-by')\n",
    "                sampled_eids_rev = sampled_eids_rev[sampled_with_edges_removed.edges['rated-by'].data[dgl.EID]]\n",
    "            \n",
    "            # Konstruiere einen Block vom gesampelten Graphen\n",
    "            block = dgl.to_block(sampled_with_edges_removed, seeds)\n",
    "            blocks.insert(0, block)\n",
    "            seeds = {'user': block.srcnodes['user'].data[dgl.NID],\n",
    "                     'item': block.srcnodes['item'].data[dgl.NID]}\n",
    "            \n",
    "            # Kopiere die Bewertungen zu den Kanten der gesampelten Graphen\n",
    "            block.edges['rated'].data['rating'] = \\\n",
    "                self.graph.edges['rated'].data['rating'][sampled_eids]\n",
    "            block.edges['rated-by'].data['rating'] = \\\n",
    "                self.graph.edges['rated-by'].data['rating'][sampled_eids_rev]\n",
    "            \n",
    "        return blocks"
   ]
  },
  {
   "cell_type": "markdown",
   "metadata": {},
   "source": [
    "### Definiere das GCMC-Modell\n"
   ]
  },
  {
   "cell_type": "code",
   "execution_count": 9,
   "metadata": {},
   "outputs": [],
   "source": [
    "from torch import nn\n",
    "import torch.nn.functional as F\n",
    "import dgl.function as fn\n",
    "import dgl.nn as dglnn\n",
    "\n",
    "class GCMCConv(nn.Module): # Die Funktionen dieser Klasse beschreibt einen Encoder\n",
    "\n",
    "    def __init__(self, hidden_dims, num_ratings):\n",
    "        super().__init__()\n",
    "        \n",
    "        # Die Bewertungen sind von 1 bis 5 nummeriert, daher muss eine 1 addiert werden. \n",
    "        self.W_r = nn.Parameter(torch.randn(num_ratings + 1, hidden_dims, hidden_dims)) # Initialisierung der erlernbaren Gewichtsmatrix in der Messagefunktion\n",
    "        self.W_i = nn.Linear(hidden_dims * 2, hidden_dims) # Die Gewichtsmatrix W_i in der Akkumulationsfunktion\n",
    "        \n",
    "    def compute_message(self, W, edges): \n",
    "        W_r = W[edges.data['rating']] # W_r als Edge Feature für das Rating r. \n",
    "        h = edges.src['h'] # h als die h-te Zwischenebene des Encoders im GCMC, sowohl für User und Item\n",
    "        m = (W_r @ h.unsqueeze(-1)).squeeze(2) # m als die Berechnete Message μ\n",
    "        return m\n",
    "\n",
    "    def forward(self, graph, node_features):\n",
    "        with graph.local_scope():\n",
    "            src_features, dst_features = node_features\n",
    "            \n",
    "            # Anwendung von compute_message auf alle Edgefeatures des Inputs\n",
    "            graph.srcdata['h'] = src_features \n",
    "            graph.dstdata['h'] = dst_features \n",
    "            \n",
    "             # Die Aggregation, wobei dies über den Schnitt der Nachbarschaft erfolgt\n",
    "            graph.apply_edges(lambda edges: {'m': self.compute_message(self.W_r, edges)})\n",
    "            \n",
    "            # Updates der Repräsentationen von Output Users und Items\n",
    "            graph.update_all(fn.copy_e('m', 'm'), fn.mean('m', 'h_neigh'))  \n",
    "            \n",
    "            # Akkumulationsfunktion mit Konkatenation\n",
    "            result = F.relu(self.W_i(torch.cat([graph.dstdata['h'], graph.dstdata['h_neigh']], 1))) \n",
    "            return result "
   ]
  },
  {
   "cell_type": "code",
   "execution_count": 10,
   "metadata": {},
   "outputs": [],
   "source": [
    "class GCMCLayer(nn.Module):\n",
    "\n",
    "    def __init__(self, hidden_dims, num_ratings):\n",
    "        super().__init__()\n",
    "        \n",
    "        # Hier werden die Ebenen h_ui und h_vj für beide Richtungen ausgerechnet.\n",
    "        self.heteroconv = dglnn.HeteroGraphConv(\n",
    "            {'rated': GCMCConv(hidden_dims, num_ratings), 'rated-by': GCMCConv(hidden_dims, num_ratings)},\n",
    "            aggregate='sum')\n",
    "                \n",
    "    def forward(self, block, input_user_features, input_item_features):\n",
    "        with block.local_scope():\n",
    "            # Input-Vektoren für die h.te Ebene\n",
    "            h_user = input_user_features \n",
    "            h_item = input_item_features\n",
    "            \n",
    "            # übernehme Features von vorherhiger Ebene für nächste Ebene\n",
    "            src_features = {'user': h_user, 'item': h_item} \n",
    "            dst_features = {'user': h_user[:block.number_of_dst_nodes('user')],\n",
    "                            # Analog, jedoch mit Beachtung der Samplings\n",
    "                            'item': h_item[:block.number_of_dst_nodes('item')]} \n",
    "            \n",
    "            result = self.heteroconv(block, (src_features, dst_features))\n",
    "            return result['user'], result['item']"
   ]
  },
  {
   "cell_type": "code",
   "execution_count": 11,
   "metadata": {},
   "outputs": [],
   "source": [
    "class GCMCRating(nn.Module):\n",
    "    def __init__(self, num_users, num_items, hidden_dims, num_ratings, num_layers):\n",
    "        super().__init__()\n",
    "        \n",
    "        # Embeddingvektor der Größe hidden_dims für User und Items\n",
    "        self.user_embeddings = nn.Embedding(num_users, hidden_dims)  \n",
    "        self.item_embeddings = nn.Embedding(num_items, hidden_dims)\n",
    "        \n",
    "        self.layers = nn.ModuleList([\n",
    "            # Berechnung der Layers im Encoder.\n",
    "            GCMCLayer(hidden_dims, num_ratings) for _ in range(num_layers)]) \n",
    "        \n",
    "        # Trainierbarer Parameter für Items W_v und für Users W_u\n",
    "        self.W_u = nn.Linear(hidden_dims, hidden_dims) # Linear() besteht aus x*W_u^T + b wobei b ein Bias ist.\n",
    "        self.W_v = nn.Linear(hidden_dims, hidden_dims)\n",
    "        \n",
    "    def forward(self, blocks):\n",
    "        # Beginne mit Embedding für jeden User und Item\n",
    "        user_embeddings = self.user_embeddings(blocks[0].srcnodes['user'].data[dgl.NID])\n",
    "        item_embeddings = self.item_embeddings(blocks[0].srcnodes['item'].data[dgl.NID])\n",
    "        \n",
    "        # Iteriere über die Encoder-Layers\n",
    "        for block, layer in zip(blocks, self.layers):\n",
    "            # Berechnung der Nachricht zwischen Item und User\n",
    "            user_embeddings, item_embeddings = layer(block, user_embeddings, item_embeddings) \n",
    "        \n",
    "        # Zusammensetzung des Embeddingvektors und dazugehörigen trainierbaren Gewichtung \n",
    "        z_u = self.W_u(user_embeddings) \n",
    "        z_v = self.W_v(item_embeddings)\n",
    "        \n",
    "        return z_u, z_v # Finale Repräsentation der Knoten als Embeddingvektoren z_u und z_v\n",
    "        \n",
    "        # Decoder über das Skalarprodukt  \n",
    "    def compute_score(self, pair_graph, z_u, z_v):\n",
    "        with pair_graph.local_scope():\n",
    "            # Nutze für die Ebene h die Embeddings z_u und z_v\n",
    "            pair_graph.nodes['user'].data['h'] = z_u \n",
    "            pair_graph.nodes['item'].data['h'] = z_v\n",
    "            \n",
    "            # Berechne Rating über Skalarpodukt über z_u und z_v  und update die Kantenfeatures\n",
    "            pair_graph.apply_edges(fn.u_dot_v('h', 'h', 'r')) \n",
    "            \n",
    "            return pair_graph.edata['r'] #Ende des Forward-Propagation vom GCMC-Modell"
   ]
  },
  {
   "cell_type": "markdown",
   "metadata": {},
   "source": [
    "### RMSE zur Berechnung der Kostenfunktion"
   ]
  },
  {
   "cell_type": "markdown",
   "metadata": {},
   "source": [
    "### Training des GCMC-Modells"
   ]
  },
  {
   "cell_type": "code",
   "execution_count": 16,
   "metadata": {},
   "outputs": [],
   "source": [
    "import tqdm\n",
    "from sklearn.metrics import mean_squared_error\n",
    "\n",
    "def trainingLoop(NUM_LAYERS, BATCH_SIZE, NUM_EPOCHS, HIDDEN_DIMS, NUM_RATINGS, printing = True):\n",
    "    sampler = MinibatchSampler(graph, NUM_LAYERS) # Erstellt ein Sampler Objekt basierend auf den Graphen\n",
    "    \n",
    "    # Sampelt und erstellt Trainset und Testset auf Basis des Samplers und Batchsize\n",
    "    train_dataloader = DataLoader(tensorTrainset, batch_size=BATCH_SIZE, collate_fn=sampler.sample, shuffle=True)\n",
    "    test_dataloader = DataLoader(tensorTestset, batch_size=BATCH_SIZE, collate_fn=sampler.sample, shuffle=False)\n",
    "    \n",
    "    # Übergabe der Hyper-Parameter und Konstruktion des Modells für das Datenset\n",
    "    model = GCMCRating(graph.number_of_nodes('user'), graph.number_of_nodes('item'), HIDDEN_DIMS, NUM_RATINGS, NUM_LAYERS) \n",
    "    \n",
    "    # SGD-Optimierungsverfahren für die Modell-Parameter mit Lernparameter = 0.01\n",
    "    opt = torch.optim.SGD(model.parameters(), lr=0.001) \n",
    "    \n",
    "    rmse = []\n",
    "    \n",
    "    for i in range(NUM_EPOCHS):\n",
    "        \n",
    "        model.train() # Modell wird nun in Trainzustand gesetzt.\n",
    "    \n",
    "        with tqdm.tqdm(train_dataloader) as t: # Training über Trainset\n",
    "            for pair_graph, blocks in t:\n",
    "                user_emb, item_emb = model(blocks)\n",
    "                prediction = model.compute_score(pair_graph, user_emb, item_emb)\n",
    "                loss = ((prediction - pair_graph.edata['rating']) ** 2).mean()\n",
    "                opt.zero_grad() # setze Gradienten auf 0\n",
    "                loss.backward() # Berechne Gradienten mittels Backpropagation\n",
    "                opt.step() # update die Modell-Parameter\n",
    "\n",
    "        model.eval() # Modell wird nun in Testzustand gesetzt.\n",
    "       \n",
    "        with tqdm.tqdm(test_dataloader) as t: # Evaluation über Testset\n",
    "            with torch.no_grad():\n",
    "                predictions = []\n",
    "                ratings = []\n",
    "                for pair_graph, blocks in t:\n",
    "                    # Definiere die Embeddingvektoren von User und Item\n",
    "                    user_emb, item_emb = model(blocks) \n",
    "                    # Berechnung der Vorhersage eines Ratings r\n",
    "                    prediction = model.compute_score(pair_graph, user_emb, item_emb) \n",
    "                    predictions.append(prediction) # vorhergesagter wert von r\n",
    "                    ratings.append(pair_graph.edata['rating']) # tatsächlicher Wert von r\n",
    "\n",
    "                predictions = torch.cat(predictions, 0)\n",
    "                ratings = torch.cat(ratings, 0)\n",
    "        \n",
    "        # Ausgabe des RMSE nach jedem SGD-Schritt\n",
    "        if printing:\n",
    "            print('RMSE:', mean_squared_error(predictions, ratings, squared=True).item() , ' - Nach',i+1,'. Epoch:')\n",
    "        \n",
    "        rmse.append(mean_squared_error(predictions, ratings, squared=True).item())\n",
    "    \n",
    "    # Gibt den endgültigen RMSE aus, falls printing = True\n",
    "    if printing:\n",
    "        print('\\n\\nAuswertung für folgende Hyper-Parameter: \\n',\n",
    "              'NUM_LAYERS','=', NUM_LAYERS, '\\n',\n",
    "              'BATCH_SIZE','=', BATCH_SIZE, '\\n',\n",
    "              'NUM_EPOCHS','=', NUM_EPOCHS, '\\n',\n",
    "              'HIDDEN_DIMS','=', HIDDEN_DIMS, '\\n') \n",
    "        print('Endgültiger RMSE:', mean_squared_error(predictions, ratings, squared=True).item())\n",
    "    \n",
    "    return rmse"
   ]
  },
  {
   "cell_type": "markdown",
   "metadata": {},
   "source": [
    "### Beispiel Hyper-Parameter für das Modell"
   ]
  },
  {
   "cell_type": "code",
   "execution_count": 17,
   "metadata": {},
   "outputs": [
    {
     "name": "stderr",
     "output_type": "stream",
     "text": [
      "100%|████████████████████████████████████████████████████████████████████████████████| 182/182 [00:26<00:00,  6.95it/s]\n",
      "100%|██████████████████████████████████████████████████████████████████████████████████| 19/19 [00:00<00:00, 21.82it/s]\n",
      "  1%|▍                                                                                 | 1/182 [00:00<00:27,  6.62it/s]"
     ]
    },
    {
     "name": "stdout",
     "output_type": "stream",
     "text": [
      "RMSE: 2.7704715044802493  - Nach 1 . Epoch:\n"
     ]
    },
    {
     "name": "stderr",
     "output_type": "stream",
     "text": [
      "100%|████████████████████████████████████████████████████████████████████████████████| 182/182 [00:26<00:00,  6.90it/s]\n",
      "100%|██████████████████████████████████████████████████████████████████████████████████| 19/19 [00:00<00:00, 19.46it/s]\n",
      "  1%|▍                                                                                 | 1/182 [00:00<00:28,  6.37it/s]"
     ]
    },
    {
     "name": "stdout",
     "output_type": "stream",
     "text": [
      "RMSE: 1.664269193463  - Nach 2 . Epoch:\n"
     ]
    },
    {
     "name": "stderr",
     "output_type": "stream",
     "text": [
      "100%|████████████████████████████████████████████████████████████████████████████████| 182/182 [00:26<00:00,  6.93it/s]\n",
      "100%|██████████████████████████████████████████████████████████████████████████████████| 19/19 [00:00<00:00, 21.09it/s]\n",
      "  1%|▍                                                                                 | 1/182 [00:00<00:25,  7.11it/s]"
     ]
    },
    {
     "name": "stdout",
     "output_type": "stream",
     "text": [
      "RMSE: 1.4923584802979568  - Nach 3 . Epoch:\n"
     ]
    },
    {
     "name": "stderr",
     "output_type": "stream",
     "text": [
      "100%|████████████████████████████████████████████████████████████████████████████████| 182/182 [00:25<00:00,  7.12it/s]\n",
      "100%|██████████████████████████████████████████████████████████████████████████████████| 19/19 [00:00<00:00, 20.56it/s]\n",
      "  1%|▍                                                                                 | 1/182 [00:00<00:26,  6.71it/s]"
     ]
    },
    {
     "name": "stdout",
     "output_type": "stream",
     "text": [
      "RMSE: 1.415537609015267  - Nach 4 . Epoch:\n"
     ]
    },
    {
     "name": "stderr",
     "output_type": "stream",
     "text": [
      "100%|████████████████████████████████████████████████████████████████████████████████| 182/182 [00:25<00:00,  7.09it/s]\n",
      "100%|██████████████████████████████████████████████████████████████████████████████████| 19/19 [00:00<00:00, 21.32it/s]\n",
      "  1%|▍                                                                                 | 1/182 [00:00<00:26,  6.71it/s]"
     ]
    },
    {
     "name": "stdout",
     "output_type": "stream",
     "text": [
      "RMSE: 1.375839226121912  - Nach 5 . Epoch:\n"
     ]
    },
    {
     "name": "stderr",
     "output_type": "stream",
     "text": [
      "100%|████████████████████████████████████████████████████████████████████████████████| 182/182 [00:25<00:00,  7.07it/s]\n",
      "100%|██████████████████████████████████████████████████████████████████████████████████| 19/19 [00:00<00:00, 21.15it/s]\n",
      "  1%|▍                                                                                 | 1/182 [00:00<00:26,  6.94it/s]"
     ]
    },
    {
     "name": "stdout",
     "output_type": "stream",
     "text": [
      "RMSE: 1.3522105088768852  - Nach 6 . Epoch:\n"
     ]
    },
    {
     "name": "stderr",
     "output_type": "stream",
     "text": [
      "100%|████████████████████████████████████████████████████████████████████████████████| 182/182 [00:25<00:00,  7.08it/s]\n",
      "100%|██████████████████████████████████████████████████████████████████████████████████| 19/19 [00:00<00:00, 19.71it/s]\n",
      "  1%|▍                                                                                 | 1/182 [00:00<00:28,  6.45it/s]"
     ]
    },
    {
     "name": "stdout",
     "output_type": "stream",
     "text": [
      "RMSE: 1.3379949923084111  - Nach 7 . Epoch:\n"
     ]
    },
    {
     "name": "stderr",
     "output_type": "stream",
     "text": [
      "100%|████████████████████████████████████████████████████████████████████████████████| 182/182 [00:25<00:00,  7.12it/s]\n",
      "100%|██████████████████████████████████████████████████████████████████████████████████| 19/19 [00:00<00:00, 20.99it/s]\n",
      "  1%|▍                                                                                 | 1/182 [00:00<00:26,  6.80it/s]"
     ]
    },
    {
     "name": "stdout",
     "output_type": "stream",
     "text": [
      "RMSE: 1.327015538161231  - Nach 8 . Epoch:\n"
     ]
    },
    {
     "name": "stderr",
     "output_type": "stream",
     "text": [
      "100%|████████████████████████████████████████████████████████████████████████████████| 182/182 [00:25<00:00,  7.01it/s]\n",
      "100%|██████████████████████████████████████████████████████████████████████████████████| 19/19 [00:00<00:00, 20.21it/s]\n",
      "  1%|▍                                                                                 | 1/182 [00:00<00:25,  7.04it/s]"
     ]
    },
    {
     "name": "stdout",
     "output_type": "stream",
     "text": [
      "RMSE: 1.3182406383491487  - Nach 9 . Epoch:\n"
     ]
    },
    {
     "name": "stderr",
     "output_type": "stream",
     "text": [
      "100%|████████████████████████████████████████████████████████████████████████████████| 182/182 [00:25<00:00,  7.10it/s]\n",
      "100%|██████████████████████████████████████████████████████████████████████████████████| 19/19 [00:00<00:00, 20.97it/s]\n",
      "  1%|▍                                                                                 | 1/182 [00:00<00:26,  6.80it/s]"
     ]
    },
    {
     "name": "stdout",
     "output_type": "stream",
     "text": [
      "RMSE: 1.3118769450679741  - Nach 10 . Epoch:\n"
     ]
    },
    {
     "name": "stderr",
     "output_type": "stream",
     "text": [
      "100%|████████████████████████████████████████████████████████████████████████████████| 182/182 [00:25<00:00,  7.08it/s]\n",
      "100%|██████████████████████████████████████████████████████████████████████████████████| 19/19 [00:00<00:00, 19.97it/s]\n",
      "  1%|▍                                                                                 | 1/182 [00:00<00:27,  6.67it/s]"
     ]
    },
    {
     "name": "stdout",
     "output_type": "stream",
     "text": [
      "RMSE: 1.306397716760042  - Nach 11 . Epoch:\n"
     ]
    },
    {
     "name": "stderr",
     "output_type": "stream",
     "text": [
      "100%|████████████████████████████████████████████████████████████████████████████████| 182/182 [00:25<00:00,  7.05it/s]\n",
      "100%|██████████████████████████████████████████████████████████████████████████████████| 19/19 [00:00<00:00, 20.94it/s]\n",
      "  1%|▍                                                                                 | 1/182 [00:00<00:26,  6.76it/s]"
     ]
    },
    {
     "name": "stdout",
     "output_type": "stream",
     "text": [
      "RMSE: 1.3017920696750778  - Nach 12 . Epoch:\n"
     ]
    },
    {
     "name": "stderr",
     "output_type": "stream",
     "text": [
      "100%|████████████████████████████████████████████████████████████████████████████████| 182/182 [00:25<00:00,  7.10it/s]\n",
      "100%|██████████████████████████████████████████████████████████████████████████████████| 19/19 [00:00<00:00, 21.40it/s]\n",
      "  1%|▍                                                                                 | 1/182 [00:00<00:28,  6.41it/s]"
     ]
    },
    {
     "name": "stdout",
     "output_type": "stream",
     "text": [
      "RMSE: 1.299287282876087  - Nach 13 . Epoch:\n"
     ]
    },
    {
     "name": "stderr",
     "output_type": "stream",
     "text": [
      "100%|████████████████████████████████████████████████████████████████████████████████| 182/182 [00:25<00:00,  7.11it/s]\n",
      "100%|██████████████████████████████████████████████████████████████████████████████████| 19/19 [00:00<00:00, 20.56it/s]\n",
      "  1%|▍                                                                                 | 1/182 [00:00<00:25,  7.19it/s]"
     ]
    },
    {
     "name": "stdout",
     "output_type": "stream",
     "text": [
      "RMSE: 1.2952464661218914  - Nach 14 . Epoch:\n"
     ]
    },
    {
     "name": "stderr",
     "output_type": "stream",
     "text": [
      "100%|████████████████████████████████████████████████████████████████████████████████| 182/182 [00:26<00:00,  7.00it/s]\n",
      "100%|██████████████████████████████████████████████████████████████████████████████████| 19/19 [00:00<00:00, 21.04it/s]\n",
      "  1%|▍                                                                                 | 1/182 [00:00<00:26,  6.94it/s]"
     ]
    },
    {
     "name": "stdout",
     "output_type": "stream",
     "text": [
      "RMSE: 1.2934643519928233  - Nach 15 . Epoch:\n"
     ]
    },
    {
     "name": "stderr",
     "output_type": "stream",
     "text": [
      "100%|████████████████████████████████████████████████████████████████████████████████| 182/182 [00:26<00:00,  6.99it/s]\n",
      "100%|██████████████████████████████████████████████████████████████████████████████████| 19/19 [00:01<00:00, 18.58it/s]\n",
      "  1%|▍                                                                                 | 1/182 [00:00<00:27,  6.49it/s]"
     ]
    },
    {
     "name": "stdout",
     "output_type": "stream",
     "text": [
      "RMSE: 1.289492773997059  - Nach 16 . Epoch:\n"
     ]
    },
    {
     "name": "stderr",
     "output_type": "stream",
     "text": [
      "100%|████████████████████████████████████████████████████████████████████████████████| 182/182 [00:25<00:00,  7.01it/s]\n",
      "100%|██████████████████████████████████████████████████████████████████████████████████| 19/19 [00:00<00:00, 20.72it/s]\n",
      "  1%|▍                                                                                 | 1/182 [00:00<00:25,  7.09it/s]"
     ]
    },
    {
     "name": "stdout",
     "output_type": "stream",
     "text": [
      "RMSE: 1.2905133882962232  - Nach 17 . Epoch:\n"
     ]
    },
    {
     "name": "stderr",
     "output_type": "stream",
     "text": [
      "100%|████████████████████████████████████████████████████████████████████████████████| 182/182 [00:25<00:00,  7.06it/s]\n",
      "100%|██████████████████████████████████████████████████████████████████████████████████| 19/19 [00:00<00:00, 19.63it/s]\n",
      "  1%|▍                                                                                 | 1/182 [00:00<00:26,  6.85it/s]"
     ]
    },
    {
     "name": "stdout",
     "output_type": "stream",
     "text": [
      "RMSE: 1.2867422577946903  - Nach 18 . Epoch:\n"
     ]
    },
    {
     "name": "stderr",
     "output_type": "stream",
     "text": [
      "100%|████████████████████████████████████████████████████████████████████████████████| 182/182 [00:26<00:00,  7.00it/s]\n",
      "100%|██████████████████████████████████████████████████████████████████████████████████| 19/19 [00:00<00:00, 21.13it/s]\n",
      "  1%|▍                                                                                 | 1/182 [00:00<00:25,  7.04it/s]"
     ]
    },
    {
     "name": "stdout",
     "output_type": "stream",
     "text": [
      "RMSE: 1.2845804339540343  - Nach 19 . Epoch:\n"
     ]
    },
    {
     "name": "stderr",
     "output_type": "stream",
     "text": [
      "100%|████████████████████████████████████████████████████████████████████████████████| 182/182 [00:25<00:00,  7.07it/s]\n",
      "100%|██████████████████████████████████████████████████████████████████████████████████| 19/19 [00:00<00:00, 20.78it/s]\n",
      "  1%|▍                                                                                 | 1/182 [00:00<00:25,  7.03it/s]"
     ]
    },
    {
     "name": "stdout",
     "output_type": "stream",
     "text": [
      "RMSE: 1.2836258884019465  - Nach 20 . Epoch:\n"
     ]
    },
    {
     "name": "stderr",
     "output_type": "stream",
     "text": [
      "100%|████████████████████████████████████████████████████████████████████████████████| 182/182 [00:25<00:00,  7.10it/s]\n",
      "100%|██████████████████████████████████████████████████████████████████████████████████| 19/19 [00:00<00:00, 20.94it/s]\n",
      "  1%|▍                                                                                 | 1/182 [00:00<00:26,  6.76it/s]"
     ]
    },
    {
     "name": "stdout",
     "output_type": "stream",
     "text": [
      "RMSE: 1.2818127626864606  - Nach 21 . Epoch:\n"
     ]
    },
    {
     "name": "stderr",
     "output_type": "stream",
     "text": [
      "100%|████████████████████████████████████████████████████████████████████████████████| 182/182 [00:25<00:00,  7.02it/s]\n",
      "100%|██████████████████████████████████████████████████████████████████████████████████| 19/19 [00:00<00:00, 21.11it/s]\n",
      "  1%|▍                                                                                 | 1/182 [00:00<00:26,  6.71it/s]"
     ]
    },
    {
     "name": "stdout",
     "output_type": "stream",
     "text": [
      "RMSE: 1.2810190316120253  - Nach 22 . Epoch:\n"
     ]
    },
    {
     "name": "stderr",
     "output_type": "stream",
     "text": [
      "100%|████████████████████████████████████████████████████████████████████████████████| 182/182 [00:25<00:00,  7.01it/s]\n",
      "100%|██████████████████████████████████████████████████████████████████████████████████| 19/19 [00:00<00:00, 20.81it/s]\n",
      "  1%|▍                                                                                 | 1/182 [00:00<00:26,  6.80it/s]"
     ]
    },
    {
     "name": "stdout",
     "output_type": "stream",
     "text": [
      "RMSE: 1.2799851511044276  - Nach 23 . Epoch:\n"
     ]
    },
    {
     "name": "stderr",
     "output_type": "stream",
     "text": [
      "100%|████████████████████████████████████████████████████████████████████████████████| 182/182 [00:25<00:00,  7.03it/s]\n",
      "100%|██████████████████████████████████████████████████████████████████████████████████| 19/19 [00:00<00:00, 20.29it/s]\n",
      "  1%|▍                                                                                 | 1/182 [00:00<00:27,  6.67it/s]"
     ]
    },
    {
     "name": "stdout",
     "output_type": "stream",
     "text": [
      "RMSE: 1.27795160278842  - Nach 24 . Epoch:\n"
     ]
    },
    {
     "name": "stderr",
     "output_type": "stream",
     "text": [
      "100%|████████████████████████████████████████████████████████████████████████████████| 182/182 [00:25<00:00,  7.02it/s]\n",
      "100%|██████████████████████████████████████████████████████████████████████████████████| 19/19 [00:00<00:00, 20.43it/s]\n",
      "  1%|▍                                                                                 | 1/182 [00:00<00:28,  6.32it/s]"
     ]
    },
    {
     "name": "stdout",
     "output_type": "stream",
     "text": [
      "RMSE: 1.276432511645502  - Nach 25 . Epoch:\n"
     ]
    },
    {
     "name": "stderr",
     "output_type": "stream",
     "text": [
      "100%|████████████████████████████████████████████████████████████████████████████████| 182/182 [00:25<00:00,  7.07it/s]\n",
      "100%|██████████████████████████████████████████████████████████████████████████████████| 19/19 [00:00<00:00, 20.10it/s]\n",
      "  1%|▍                                                                                 | 1/182 [00:00<00:26,  6.85it/s]"
     ]
    },
    {
     "name": "stdout",
     "output_type": "stream",
     "text": [
      "RMSE: 1.2777975005253825  - Nach 26 . Epoch:\n"
     ]
    },
    {
     "name": "stderr",
     "output_type": "stream",
     "text": [
      "100%|████████████████████████████████████████████████████████████████████████████████| 182/182 [00:25<00:00,  7.05it/s]\n",
      "100%|██████████████████████████████████████████████████████████████████████████████████| 19/19 [00:00<00:00, 20.32it/s]\n",
      "  1%|▍                                                                                 | 1/182 [00:00<00:26,  6.85it/s]"
     ]
    },
    {
     "name": "stdout",
     "output_type": "stream",
     "text": [
      "RMSE: 1.2748856202802605  - Nach 27 . Epoch:\n"
     ]
    },
    {
     "name": "stderr",
     "output_type": "stream",
     "text": [
      "100%|████████████████████████████████████████████████████████████████████████████████| 182/182 [00:25<00:00,  7.03it/s]\n",
      "100%|██████████████████████████████████████████████████████████████████████████████████| 19/19 [00:00<00:00, 20.96it/s]\n",
      "  1%|▍                                                                                 | 1/182 [00:00<00:25,  6.99it/s]"
     ]
    },
    {
     "name": "stdout",
     "output_type": "stream",
     "text": [
      "RMSE: 1.2746926276648594  - Nach 28 . Epoch:\n"
     ]
    },
    {
     "name": "stderr",
     "output_type": "stream",
     "text": [
      "100%|████████████████████████████████████████████████████████████████████████████████| 182/182 [00:25<00:00,  7.10it/s]\n",
      "100%|██████████████████████████████████████████████████████████████████████████████████| 19/19 [00:00<00:00, 20.99it/s]\n",
      "  1%|▍                                                                                 | 1/182 [00:00<00:26,  6.80it/s]"
     ]
    },
    {
     "name": "stdout",
     "output_type": "stream",
     "text": [
      "RMSE: 1.27352530953574  - Nach 29 . Epoch:\n"
     ]
    },
    {
     "name": "stderr",
     "output_type": "stream",
     "text": [
      "100%|████████████████████████████████████████████████████████████████████████████████| 182/182 [00:25<00:00,  7.06it/s]\n",
      "100%|██████████████████████████████████████████████████████████████████████████████████| 19/19 [00:01<00:00, 18.27it/s]\n",
      "  1%|▍                                                                                 | 1/182 [00:00<00:26,  6.82it/s]"
     ]
    },
    {
     "name": "stdout",
     "output_type": "stream",
     "text": [
      "RMSE: 1.273011918372647  - Nach 30 . Epoch:\n"
     ]
    },
    {
     "name": "stderr",
     "output_type": "stream",
     "text": [
      "100%|████████████████████████████████████████████████████████████████████████████████| 182/182 [00:25<00:00,  7.02it/s]\n",
      "100%|██████████████████████████████████████████████████████████████████████████████████| 19/19 [00:00<00:00, 20.08it/s]\n",
      "  1%|▍                                                                                 | 1/182 [00:00<00:25,  6.99it/s]"
     ]
    },
    {
     "name": "stdout",
     "output_type": "stream",
     "text": [
      "RMSE: 1.2731286480169688  - Nach 31 . Epoch:\n"
     ]
    },
    {
     "name": "stderr",
     "output_type": "stream",
     "text": [
      "100%|████████████████████████████████████████████████████████████████████████████████| 182/182 [00:25<00:00,  7.06it/s]\n",
      "100%|██████████████████████████████████████████████████████████████████████████████████| 19/19 [00:00<00:00, 20.67it/s]\n",
      "  1%|▍                                                                                 | 1/182 [00:00<00:27,  6.58it/s]"
     ]
    },
    {
     "name": "stdout",
     "output_type": "stream",
     "text": [
      "RMSE: 1.271554113697579  - Nach 32 . Epoch:\n"
     ]
    },
    {
     "name": "stderr",
     "output_type": "stream",
     "text": [
      "100%|████████████████████████████████████████████████████████████████████████████████| 182/182 [00:26<00:00,  6.99it/s]\n",
      "100%|██████████████████████████████████████████████████████████████████████████████████| 19/19 [00:00<00:00, 21.17it/s]\n",
      "  1%|▍                                                                                 | 1/182 [00:00<00:25,  7.19it/s]"
     ]
    },
    {
     "name": "stdout",
     "output_type": "stream",
     "text": [
      "RMSE: 1.27132249567477  - Nach 33 . Epoch:\n"
     ]
    },
    {
     "name": "stderr",
     "output_type": "stream",
     "text": [
      "100%|████████████████████████████████████████████████████████████████████████████████| 182/182 [00:25<00:00,  7.11it/s]\n",
      "100%|██████████████████████████████████████████████████████████████████████████████████| 19/19 [00:00<00:00, 20.69it/s]\n",
      "  1%|▍                                                                                 | 1/182 [00:00<00:29,  6.10it/s]"
     ]
    },
    {
     "name": "stdout",
     "output_type": "stream",
     "text": [
      "RMSE: 1.2716852915116945  - Nach 34 . Epoch:\n"
     ]
    },
    {
     "name": "stderr",
     "output_type": "stream",
     "text": [
      "100%|████████████████████████████████████████████████████████████████████████████████| 182/182 [00:25<00:00,  7.00it/s]\n",
      "100%|██████████████████████████████████████████████████████████████████████████████████| 19/19 [00:00<00:00, 20.76it/s]\n",
      "  1%|▍                                                                                 | 1/182 [00:00<00:26,  6.80it/s]"
     ]
    },
    {
     "name": "stdout",
     "output_type": "stream",
     "text": [
      "RMSE: 1.2702129871139545  - Nach 35 . Epoch:\n"
     ]
    },
    {
     "name": "stderr",
     "output_type": "stream",
     "text": [
      "100%|████████████████████████████████████████████████████████████████████████████████| 182/182 [00:26<00:00,  6.96it/s]\n",
      "100%|██████████████████████████████████████████████████████████████████████████████████| 19/19 [00:00<00:00, 20.97it/s]\n",
      "  1%|▍                                                                                 | 1/182 [00:00<00:26,  6.94it/s]"
     ]
    },
    {
     "name": "stdout",
     "output_type": "stream",
     "text": [
      "RMSE: 1.269603062207193  - Nach 36 . Epoch:\n"
     ]
    },
    {
     "name": "stderr",
     "output_type": "stream",
     "text": [
      "100%|████████████████████████████████████████████████████████████████████████████████| 182/182 [00:25<00:00,  7.05it/s]\n",
      "100%|██████████████████████████████████████████████████████████████████████████████████| 19/19 [00:00<00:00, 21.01it/s]\n",
      "  1%|▍                                                                                 | 1/182 [00:00<00:26,  6.89it/s]"
     ]
    },
    {
     "name": "stdout",
     "output_type": "stream",
     "text": [
      "RMSE: 1.2695111574438853  - Nach 37 . Epoch:\n"
     ]
    },
    {
     "name": "stderr",
     "output_type": "stream",
     "text": [
      "100%|████████████████████████████████████████████████████████████████████████████████| 182/182 [00:25<00:00,  7.07it/s]\n",
      "100%|██████████████████████████████████████████████████████████████████████████████████| 19/19 [00:00<00:00, 20.79it/s]\n",
      "  1%|▍                                                                                 | 1/182 [00:00<00:25,  7.15it/s]"
     ]
    },
    {
     "name": "stdout",
     "output_type": "stream",
     "text": [
      "RMSE: 1.2691901644619636  - Nach 38 . Epoch:\n"
     ]
    },
    {
     "name": "stderr",
     "output_type": "stream",
     "text": [
      "100%|████████████████████████████████████████████████████████████████████████████████| 182/182 [00:25<00:00,  7.08it/s]\n",
      "100%|██████████████████████████████████████████████████████████████████████████████████| 19/19 [00:00<00:00, 21.32it/s]\n",
      "  1%|▍                                                                                 | 1/182 [00:00<00:24,  7.35it/s]"
     ]
    },
    {
     "name": "stdout",
     "output_type": "stream",
     "text": [
      "RMSE: 1.2692925663887178  - Nach 39 . Epoch:\n"
     ]
    },
    {
     "name": "stderr",
     "output_type": "stream",
     "text": [
      "100%|████████████████████████████████████████████████████████████████████████████████| 182/182 [00:25<00:00,  7.09it/s]\n",
      "100%|██████████████████████████████████████████████████████████████████████████████████| 19/19 [00:00<00:00, 21.00it/s]"
     ]
    },
    {
     "name": "stdout",
     "output_type": "stream",
     "text": [
      "RMSE: 1.2683011676105997  - Nach 40 . Epoch:\n",
      "\n",
      "\n",
      "Auswertung für folgende Hyper-Parameter: \n",
      " NUM_LAYERS = 1 \n",
      " BATCH_SIZE = 500 \n",
      " NUM_EPOCHS = 40 \n",
      " HIDDEN_DIMS = 8 \n",
      "\n",
      "Endgültiger RMSE: 1.2683011676105997\n"
     ]
    },
    {
     "name": "stderr",
     "output_type": "stream",
     "text": [
      "\n"
     ]
    }
   ],
   "source": [
    "# Hyper-Parameter des GCMC-Modells\n",
    "NUM_LAYERS = 1 # Ebenen des Encoders\n",
    "BATCH_SIZE = 500 # Batch-Size für das Sampling\n",
    "NUM_EPOCHS = 40 # Anzahl der SGD Iterationen\n",
    "HIDDEN_DIMS = 8 # Länge des Vektors für einen Knoten\n",
    "NUM_RATINGS = len(set(trainset['rating'])) # Anzahl der Bewertungselemente der Bewertungsmenge\n",
    "\n",
    "rmse = trainingLoop(NUM_LAYERS, BATCH_SIZE, NUM_EPOCHS, HIDDEN_DIMS, NUM_RATINGS) \n"
   ]
  },
  {
   "cell_type": "markdown",
   "metadata": {},
   "source": [
    "### Grid Search (für die Evaluation)\n",
    "\n",
    "Für NUM_EPOCHS wird aufgrund des hohen Rechenaufwands der Wert auf 15 und die dazugehörige Lernrate auf 0.01 gesetzt."
   ]
  },
  {
   "cell_type": "code",
   "execution_count": 13,
   "metadata": {
    "scrolled": true
   },
   "outputs": [
    {
     "name": "stderr",
     "output_type": "stream",
     "text": [
      "100%|████████████████████████████████████████████████████████████████████████████████| 227/227 [00:22<00:00,  9.93it/s]\n",
      "100%|██████████████████████████████████████████████████████████████████████████████████| 24/24 [00:00<00:00, 25.96it/s]\n",
      "100%|████████████████████████████████████████████████████████████████████████████████| 227/227 [00:22<00:00, 10.29it/s]\n",
      "100%|██████████████████████████████████████████████████████████████████████████████████| 24/24 [00:00<00:00, 25.93it/s]\n",
      "100%|████████████████████████████████████████████████████████████████████████████████| 227/227 [00:22<00:00, 10.17it/s]\n",
      "100%|██████████████████████████████████████████████████████████████████████████████████| 24/24 [00:01<00:00, 23.90it/s]\n",
      "100%|████████████████████████████████████████████████████████████████████████████████| 227/227 [00:22<00:00, 10.20it/s]\n",
      "100%|██████████████████████████████████████████████████████████████████████████████████| 24/24 [00:00<00:00, 25.50it/s]\n",
      "100%|████████████████████████████████████████████████████████████████████████████████| 227/227 [00:22<00:00, 10.18it/s]\n",
      "100%|██████████████████████████████████████████████████████████████████████████████████| 24/24 [00:00<00:00, 25.39it/s]\n",
      "100%|████████████████████████████████████████████████████████████████████████████████| 227/227 [00:22<00:00, 10.07it/s]\n",
      "100%|██████████████████████████████████████████████████████████████████████████████████| 24/24 [00:00<00:00, 25.46it/s]\n",
      "100%|████████████████████████████████████████████████████████████████████████████████| 227/227 [00:22<00:00, 10.14it/s]\n",
      "100%|██████████████████████████████████████████████████████████████████████████████████| 24/24 [00:01<00:00, 23.85it/s]\n",
      "100%|████████████████████████████████████████████████████████████████████████████████| 227/227 [00:22<00:00, 10.23it/s]\n",
      "100%|██████████████████████████████████████████████████████████████████████████████████| 24/24 [00:00<00:00, 25.66it/s]\n",
      "100%|████████████████████████████████████████████████████████████████████████████████| 227/227 [00:22<00:00, 10.21it/s]\n",
      "100%|██████████████████████████████████████████████████████████████████████████████████| 24/24 [00:00<00:00, 25.45it/s]\n",
      "100%|████████████████████████████████████████████████████████████████████████████████| 227/227 [00:22<00:00, 10.12it/s]\n",
      "100%|██████████████████████████████████████████████████████████████████████████████████| 24/24 [00:00<00:00, 25.66it/s]\n",
      "100%|████████████████████████████████████████████████████████████████████████████████| 227/227 [00:22<00:00, 10.20it/s]\n",
      "100%|██████████████████████████████████████████████████████████████████████████████████| 24/24 [00:00<00:00, 25.75it/s]\n",
      "100%|████████████████████████████████████████████████████████████████████████████████| 227/227 [00:22<00:00, 10.14it/s]\n",
      "100%|██████████████████████████████████████████████████████████████████████████████████| 24/24 [00:00<00:00, 25.58it/s]\n",
      "100%|████████████████████████████████████████████████████████████████████████████████| 227/227 [00:22<00:00, 10.20it/s]\n",
      "100%|██████████████████████████████████████████████████████████████████████████████████| 24/24 [00:00<00:00, 25.37it/s]\n",
      "100%|████████████████████████████████████████████████████████████████████████████████| 227/227 [00:22<00:00, 10.20it/s]\n",
      "100%|██████████████████████████████████████████████████████████████████████████████████| 24/24 [00:00<00:00, 25.36it/s]\n",
      "100%|████████████████████████████████████████████████████████████████████████████████| 227/227 [00:22<00:00, 10.17it/s]\n",
      "100%|██████████████████████████████████████████████████████████████████████████████████| 24/24 [00:00<00:00, 24.86it/s]\n",
      "100%|████████████████████████████████████████████████████████████████████████████████| 227/227 [00:26<00:00,  8.62it/s]\n",
      "100%|██████████████████████████████████████████████████████████████████████████████████| 24/24 [00:01<00:00, 23.42it/s]\n",
      "100%|████████████████████████████████████████████████████████████████████████████████| 227/227 [00:25<00:00,  8.75it/s]\n",
      "100%|██████████████████████████████████████████████████████████████████████████████████| 24/24 [00:00<00:00, 25.17it/s]\n",
      "100%|████████████████████████████████████████████████████████████████████████████████| 227/227 [00:26<00:00,  8.67it/s]\n",
      "100%|██████████████████████████████████████████████████████████████████████████████████| 24/24 [00:00<00:00, 24.84it/s]\n",
      "100%|████████████████████████████████████████████████████████████████████████████████| 227/227 [00:25<00:00,  8.74it/s]\n",
      "100%|██████████████████████████████████████████████████████████████████████████████████| 24/24 [00:00<00:00, 24.55it/s]\n",
      "100%|████████████████████████████████████████████████████████████████████████████████| 227/227 [00:25<00:00,  8.80it/s]\n",
      "100%|██████████████████████████████████████████████████████████████████████████████████| 24/24 [00:00<00:00, 25.13it/s]\n",
      "100%|████████████████████████████████████████████████████████████████████████████████| 227/227 [00:25<00:00,  8.81it/s]\n",
      "100%|██████████████████████████████████████████████████████████████████████████████████| 24/24 [00:00<00:00, 24.88it/s]\n",
      "100%|████████████████████████████████████████████████████████████████████████████████| 227/227 [00:26<00:00,  8.70it/s]\n",
      "100%|██████████████████████████████████████████████████████████████████████████████████| 24/24 [00:00<00:00, 24.90it/s]\n",
      "100%|████████████████████████████████████████████████████████████████████████████████| 227/227 [00:26<00:00,  8.72it/s]\n",
      "100%|██████████████████████████████████████████████████████████████████████████████████| 24/24 [00:00<00:00, 24.68it/s]\n",
      "100%|████████████████████████████████████████████████████████████████████████████████| 227/227 [00:26<00:00,  8.72it/s]\n",
      "100%|██████████████████████████████████████████████████████████████████████████████████| 24/24 [00:00<00:00, 24.67it/s]\n",
      "100%|████████████████████████████████████████████████████████████████████████████████| 227/227 [00:26<00:00,  8.71it/s]\n",
      "100%|██████████████████████████████████████████████████████████████████████████████████| 24/24 [00:00<00:00, 25.13it/s]\n",
      "100%|████████████████████████████████████████████████████████████████████████████████| 227/227 [00:25<00:00,  8.77it/s]\n",
      "100%|██████████████████████████████████████████████████████████████████████████████████| 24/24 [00:01<00:00, 22.93it/s]\n",
      "100%|████████████████████████████████████████████████████████████████████████████████| 227/227 [00:26<00:00,  8.70it/s]\n",
      "100%|██████████████████████████████████████████████████████████████████████████████████| 24/24 [00:00<00:00, 24.86it/s]\n",
      "100%|████████████████████████████████████████████████████████████████████████████████| 227/227 [00:25<00:00,  8.75it/s]\n",
      "100%|██████████████████████████████████████████████████████████████████████████████████| 24/24 [00:00<00:00, 24.94it/s]\n",
      "100%|████████████████████████████████████████████████████████████████████████████████| 227/227 [00:25<00:00,  8.75it/s]\n",
      "100%|██████████████████████████████████████████████████████████████████████████████████| 24/24 [00:00<00:00, 24.86it/s]\n",
      "100%|████████████████████████████████████████████████████████████████████████████████| 227/227 [00:25<00:00,  8.75it/s]\n",
      "100%|██████████████████████████████████████████████████████████████████████████████████| 24/24 [00:01<00:00, 23.17it/s]\n",
      "100%|████████████████████████████████████████████████████████████████████████████████| 227/227 [00:30<00:00,  7.54it/s]\n",
      "100%|██████████████████████████████████████████████████████████████████████████████████| 24/24 [00:01<00:00, 23.51it/s]\n",
      "100%|████████████████████████████████████████████████████████████████████████████████| 227/227 [00:29<00:00,  7.63it/s]\n",
      "100%|██████████████████████████████████████████████████████████████████████████████████| 24/24 [00:01<00:00, 23.49it/s]\n",
      "100%|████████████████████████████████████████████████████████████████████████████████| 227/227 [00:29<00:00,  7.58it/s]\n",
      "100%|██████████████████████████████████████████████████████████████████████████████████| 24/24 [00:01<00:00, 23.40it/s]\n",
      "100%|████████████████████████████████████████████████████████████████████████████████| 227/227 [00:30<00:00,  7.55it/s]\n",
      "100%|██████████████████████████████████████████████████████████████████████████████████| 24/24 [00:01<00:00, 23.81it/s]\n",
      "100%|████████████████████████████████████████████████████████████████████████████████| 227/227 [00:29<00:00,  7.64it/s]\n",
      "100%|██████████████████████████████████████████████████████████████████████████████████| 24/24 [00:01<00:00, 22.30it/s]\n",
      "100%|████████████████████████████████████████████████████████████████████████████████| 227/227 [00:29<00:00,  7.63it/s]\n",
      "100%|██████████████████████████████████████████████████████████████████████████████████| 24/24 [00:01<00:00, 23.89it/s]\n",
      "100%|████████████████████████████████████████████████████████████████████████████████| 227/227 [00:30<00:00,  7.54it/s]\n",
      "100%|██████████████████████████████████████████████████████████████████████████████████| 24/24 [00:01<00:00, 23.45it/s]\n",
      "100%|████████████████████████████████████████████████████████████████████████████████| 227/227 [00:29<00:00,  7.60it/s]\n",
      "100%|██████████████████████████████████████████████████████████████████████████████████| 24/24 [00:01<00:00, 23.67it/s]\n",
      "100%|████████████████████████████████████████████████████████████████████████████████| 227/227 [00:29<00:00,  7.59it/s]\n",
      "100%|██████████████████████████████████████████████████████████████████████████████████| 24/24 [00:01<00:00, 23.63it/s]\n",
      "100%|████████████████████████████████████████████████████████████████████████████████| 227/227 [00:30<00:00,  7.53it/s]\n",
      "100%|██████████████████████████████████████████████████████████████████████████████████| 24/24 [00:01<00:00, 23.40it/s]\n",
      "100%|████████████████████████████████████████████████████████████████████████████████| 227/227 [00:30<00:00,  7.56it/s]\n",
      "100%|██████████████████████████████████████████████████████████████████████████████████| 24/24 [00:01<00:00, 23.25it/s]\n",
      "100%|████████████████████████████████████████████████████████████████████████████████| 227/227 [00:29<00:00,  7.61it/s]\n",
      "100%|██████████████████████████████████████████████████████████████████████████████████| 24/24 [00:01<00:00, 23.87it/s]\n",
      "100%|████████████████████████████████████████████████████████████████████████████████| 227/227 [00:30<00:00,  7.54it/s]\n",
      "100%|██████████████████████████████████████████████████████████████████████████████████| 24/24 [00:01<00:00, 23.20it/s]\n",
      "100%|████████████████████████████████████████████████████████████████████████████████| 227/227 [00:30<00:00,  7.51it/s]\n",
      "100%|██████████████████████████████████████████████████████████████████████████████████| 24/24 [00:01<00:00, 23.01it/s]\n",
      "100%|████████████████████████████████████████████████████████████████████████████████| 227/227 [00:29<00:00,  7.57it/s]\n",
      "100%|██████████████████████████████████████████████████████████████████████████████████| 24/24 [00:01<00:00, 23.23it/s]\n",
      "100%|████████████████████████████████████████████████████████████████████████████████| 151/151 [00:18<00:00,  8.37it/s]\n",
      "100%|██████████████████████████████████████████████████████████████████████████████████| 16/16 [00:00<00:00, 22.61it/s]\n",
      "100%|████████████████████████████████████████████████████████████████████████████████| 151/151 [00:17<00:00,  8.39it/s]\n",
      "100%|██████████████████████████████████████████████████████████████████████████████████| 16/16 [00:00<00:00, 20.48it/s]\n",
      "100%|████████████████████████████████████████████████████████████████████████████████| 151/151 [00:18<00:00,  8.37it/s]\n",
      "100%|██████████████████████████████████████████████████████████████████████████████████| 16/16 [00:00<00:00, 22.56it/s]\n",
      "100%|████████████████████████████████████████████████████████████████████████████████| 151/151 [00:18<00:00,  8.35it/s]\n",
      "100%|██████████████████████████████████████████████████████████████████████████████████| 16/16 [00:00<00:00, 22.15it/s]\n",
      "100%|████████████████████████████████████████████████████████████████████████████████| 151/151 [00:18<00:00,  8.38it/s]\n",
      "100%|██████████████████████████████████████████████████████████████████████████████████| 16/16 [00:00<00:00, 22.46it/s]\n",
      "100%|████████████████████████████████████████████████████████████████████████████████| 151/151 [00:18<00:00,  8.37it/s]\n",
      "100%|██████████████████████████████████████████████████████████████████████████████████| 16/16 [00:00<00:00, 22.47it/s]\n",
      "100%|████████████████████████████████████████████████████████████████████████████████| 151/151 [00:18<00:00,  8.32it/s]\n",
      "100%|██████████████████████████████████████████████████████████████████████████████████| 16/16 [00:00<00:00, 22.49it/s]\n",
      "100%|████████████████████████████████████████████████████████████████████████████████| 151/151 [00:18<00:00,  8.38it/s]\n",
      "100%|██████████████████████████████████████████████████████████████████████████████████| 16/16 [00:00<00:00, 22.32it/s]\n",
      "100%|████████████████████████████████████████████████████████████████████████████████| 151/151 [00:18<00:00,  8.38it/s]\n",
      "100%|██████████████████████████████████████████████████████████████████████████████████| 16/16 [00:00<00:00, 20.14it/s]\n",
      "100%|████████████████████████████████████████████████████████████████████████████████| 151/151 [00:18<00:00,  8.36it/s]\n",
      "100%|██████████████████████████████████████████████████████████████████████████████████| 16/16 [00:00<00:00, 22.37it/s]\n",
      "100%|████████████████████████████████████████████████████████████████████████████████| 151/151 [00:17<00:00,  8.41it/s]\n",
      "100%|██████████████████████████████████████████████████████████████████████████████████| 16/16 [00:00<00:00, 22.29it/s]\n",
      "100%|████████████████████████████████████████████████████████████████████████████████| 151/151 [00:18<00:00,  8.31it/s]\n",
      "100%|██████████████████████████████████████████████████████████████████████████████████| 16/16 [00:00<00:00, 22.52it/s]\n",
      "100%|████████████████████████████████████████████████████████████████████████████████| 151/151 [00:18<00:00,  8.31it/s]\n",
      "100%|██████████████████████████████████████████████████████████████████████████████████| 16/16 [00:00<00:00, 22.03it/s]\n",
      "100%|████████████████████████████████████████████████████████████████████████████████| 151/151 [00:18<00:00,  8.37it/s]\n",
      "100%|██████████████████████████████████████████████████████████████████████████████████| 16/16 [00:00<00:00, 20.50it/s]\n",
      "100%|████████████████████████████████████████████████████████████████████████████████| 151/151 [00:18<00:00,  8.34it/s]\n",
      "100%|██████████████████████████████████████████████████████████████████████████████████| 16/16 [00:00<00:00, 22.12it/s]\n",
      "100%|████████████████████████████████████████████████████████████████████████████████| 151/151 [00:21<00:00,  7.09it/s]\n",
      "100%|██████████████████████████████████████████████████████████████████████████████████| 16/16 [00:00<00:00, 21.75it/s]\n",
      "100%|████████████████████████████████████████████████████████████████████████████████| 151/151 [00:21<00:00,  7.17it/s]\n",
      "100%|██████████████████████████████████████████████████████████████████████████████████| 16/16 [00:00<00:00, 22.17it/s]\n",
      "100%|████████████████████████████████████████████████████████████████████████████████| 151/151 [00:21<00:00,  7.18it/s]\n",
      "100%|██████████████████████████████████████████████████████████████████████████████████| 16/16 [00:00<00:00, 21.51it/s]\n",
      "100%|████████████████████████████████████████████████████████████████████████████████| 151/151 [00:21<00:00,  7.05it/s]\n",
      "100%|██████████████████████████████████████████████████████████████████████████████████| 16/16 [00:00<00:00, 19.98it/s]\n",
      "100%|████████████████████████████████████████████████████████████████████████████████| 151/151 [00:21<00:00,  7.14it/s]\n",
      "100%|██████████████████████████████████████████████████████████████████████████████████| 16/16 [00:00<00:00, 21.46it/s]\n",
      "100%|████████████████████████████████████████████████████████████████████████████████| 151/151 [00:21<00:00,  7.18it/s]\n",
      "100%|██████████████████████████████████████████████████████████████████████████████████| 16/16 [00:00<00:00, 21.92it/s]\n",
      "100%|████████████████████████████████████████████████████████████████████████████████| 151/151 [00:21<00:00,  7.13it/s]\n",
      "100%|██████████████████████████████████████████████████████████████████████████████████| 16/16 [00:00<00:00, 21.70it/s]\n",
      "100%|████████████████████████████████████████████████████████████████████████████████| 151/151 [00:21<00:00,  7.18it/s]\n",
      "100%|██████████████████████████████████████████████████████████████████████████████████| 16/16 [00:00<00:00, 19.99it/s]\n"
     ]
    },
    {
     "name": "stderr",
     "output_type": "stream",
     "text": [
      "100%|████████████████████████████████████████████████████████████████████████████████| 151/151 [00:21<00:00,  7.16it/s]\n",
      "100%|██████████████████████████████████████████████████████████████████████████████████| 16/16 [00:00<00:00, 21.34it/s]\n",
      "100%|████████████████████████████████████████████████████████████████████████████████| 151/151 [00:21<00:00,  7.12it/s]\n",
      "100%|██████████████████████████████████████████████████████████████████████████████████| 16/16 [00:00<00:00, 21.31it/s]\n",
      "100%|████████████████████████████████████████████████████████████████████████████████| 151/151 [00:20<00:00,  7.21it/s]\n",
      "100%|██████████████████████████████████████████████████████████████████████████████████| 16/16 [00:00<00:00, 21.90it/s]\n",
      "100%|████████████████████████████████████████████████████████████████████████████████| 151/151 [00:21<00:00,  7.17it/s]\n",
      "100%|██████████████████████████████████████████████████████████████████████████████████| 16/16 [00:00<00:00, 21.77it/s]\n",
      "100%|████████████████████████████████████████████████████████████████████████████████| 151/151 [00:21<00:00,  7.13it/s]\n",
      "100%|██████████████████████████████████████████████████████████████████████████████████| 16/16 [00:00<00:00, 20.12it/s]\n",
      "100%|████████████████████████████████████████████████████████████████████████████████| 151/151 [00:21<00:00,  7.11it/s]\n",
      "100%|██████████████████████████████████████████████████████████████████████████████████| 16/16 [00:00<00:00, 21.30it/s]\n",
      "100%|████████████████████████████████████████████████████████████████████████████████| 151/151 [00:21<00:00,  7.15it/s]\n",
      "100%|██████████████████████████████████████████████████████████████████████████████████| 16/16 [00:00<00:00, 21.52it/s]\n",
      "100%|████████████████████████████████████████████████████████████████████████████████| 151/151 [00:24<00:00,  6.20it/s]\n",
      "100%|██████████████████████████████████████████████████████████████████████████████████| 16/16 [00:00<00:00, 20.15it/s]\n",
      "100%|████████████████████████████████████████████████████████████████████████████████| 151/151 [00:24<00:00,  6.19it/s]\n",
      "100%|██████████████████████████████████████████████████████████████████████████████████| 16/16 [00:00<00:00, 20.10it/s]\n",
      "100%|████████████████████████████████████████████████████████████████████████████████| 151/151 [00:24<00:00,  6.13it/s]\n",
      "100%|██████████████████████████████████████████████████████████████████████████████████| 16/16 [00:00<00:00, 20.10it/s]\n",
      "100%|████████████████████████████████████████████████████████████████████████████████| 151/151 [00:24<00:00,  6.16it/s]\n",
      "100%|██████████████████████████████████████████████████████████████████████████████████| 16/16 [00:00<00:00, 20.11it/s]\n",
      "100%|████████████████████████████████████████████████████████████████████████████████| 151/151 [00:24<00:00,  6.20it/s]\n",
      "100%|██████████████████████████████████████████████████████████████████████████████████| 16/16 [00:00<00:00, 20.41it/s]\n",
      "100%|████████████████████████████████████████████████████████████████████████████████| 151/151 [00:24<00:00,  6.21it/s]\n",
      "100%|██████████████████████████████████████████████████████████████████████████████████| 16/16 [00:00<00:00, 18.57it/s]\n",
      "100%|████████████████████████████████████████████████████████████████████████████████| 151/151 [00:24<00:00,  6.17it/s]\n",
      "100%|██████████████████████████████████████████████████████████████████████████████████| 16/16 [00:00<00:00, 19.87it/s]\n",
      "100%|████████████████████████████████████████████████████████████████████████████████| 151/151 [00:24<00:00,  6.13it/s]\n",
      "100%|██████████████████████████████████████████████████████████████████████████████████| 16/16 [00:00<00:00, 19.95it/s]\n",
      "100%|████████████████████████████████████████████████████████████████████████████████| 151/151 [00:24<00:00,  6.19it/s]\n",
      "100%|██████████████████████████████████████████████████████████████████████████████████| 16/16 [00:00<00:00, 20.28it/s]\n",
      "100%|████████████████████████████████████████████████████████████████████████████████| 151/151 [00:24<00:00,  6.17it/s]\n",
      "100%|██████████████████████████████████████████████████████████████████████████████████| 16/16 [00:00<00:00, 19.95it/s]\n",
      "100%|████████████████████████████████████████████████████████████████████████████████| 151/151 [00:24<00:00,  6.20it/s]\n",
      "100%|██████████████████████████████████████████████████████████████████████████████████| 16/16 [00:00<00:00, 18.45it/s]\n",
      "100%|████████████████████████████████████████████████████████████████████████████████| 151/151 [00:24<00:00,  6.15it/s]\n",
      "100%|██████████████████████████████████████████████████████████████████████████████████| 16/16 [00:00<00:00, 19.98it/s]\n",
      "100%|████████████████████████████████████████████████████████████████████████████████| 151/151 [00:24<00:00,  6.14it/s]\n",
      "100%|██████████████████████████████████████████████████████████████████████████████████| 16/16 [00:00<00:00, 20.11it/s]\n",
      "100%|████████████████████████████████████████████████████████████████████████████████| 151/151 [00:24<00:00,  6.15it/s]\n",
      "100%|██████████████████████████████████████████████████████████████████████████████████| 16/16 [00:00<00:00, 20.30it/s]\n",
      "100%|████████████████████████████████████████████████████████████████████████████████| 151/151 [00:24<00:00,  6.17it/s]\n",
      "100%|██████████████████████████████████████████████████████████████████████████████████| 16/16 [00:00<00:00, 19.56it/s]\n",
      "100%|████████████████████████████████████████████████████████████████████████████████| 114/114 [00:15<00:00,  7.31it/s]\n",
      "100%|██████████████████████████████████████████████████████████████████████████████████| 12/12 [00:00<00:00, 19.93it/s]\n",
      "100%|████████████████████████████████████████████████████████████████████████████████| 114/114 [00:15<00:00,  7.39it/s]\n",
      "100%|██████████████████████████████████████████████████████████████████████████████████| 12/12 [00:00<00:00, 17.84it/s]\n",
      "100%|████████████████████████████████████████████████████████████████████████████████| 114/114 [00:15<00:00,  7.41it/s]\n",
      "100%|██████████████████████████████████████████████████████████████████████████████████| 12/12 [00:00<00:00, 20.36it/s]\n",
      "100%|████████████████████████████████████████████████████████████████████████████████| 114/114 [00:15<00:00,  7.36it/s]\n",
      "100%|██████████████████████████████████████████████████████████████████████████████████| 12/12 [00:00<00:00, 19.94it/s]\n",
      "100%|████████████████████████████████████████████████████████████████████████████████| 114/114 [00:15<00:00,  7.41it/s]\n",
      "100%|██████████████████████████████████████████████████████████████████████████████████| 12/12 [00:00<00:00, 19.81it/s]\n",
      "100%|████████████████████████████████████████████████████████████████████████████████| 114/114 [00:15<00:00,  7.37it/s]\n",
      "100%|██████████████████████████████████████████████████████████████████████████████████| 12/12 [00:00<00:00, 19.52it/s]\n",
      "100%|████████████████████████████████████████████████████████████████████████████████| 114/114 [00:15<00:00,  7.36it/s]\n",
      "100%|██████████████████████████████████████████████████████████████████████████████████| 12/12 [00:00<00:00, 17.78it/s]\n",
      "100%|████████████████████████████████████████████████████████████████████████████████| 114/114 [00:15<00:00,  7.36it/s]\n",
      "100%|██████████████████████████████████████████████████████████████████████████████████| 12/12 [00:00<00:00, 20.58it/s]\n",
      "100%|████████████████████████████████████████████████████████████████████████████████| 114/114 [00:15<00:00,  7.37it/s]\n",
      "100%|██████████████████████████████████████████████████████████████████████████████████| 12/12 [00:00<00:00, 19.93it/s]\n",
      "100%|████████████████████████████████████████████████████████████████████████████████| 114/114 [00:15<00:00,  7.36it/s]\n",
      "100%|██████████████████████████████████████████████████████████████████████████████████| 12/12 [00:00<00:00, 18.05it/s]\n",
      "100%|████████████████████████████████████████████████████████████████████████████████| 114/114 [00:15<00:00,  7.38it/s]\n",
      "100%|██████████████████████████████████████████████████████████████████████████████████| 12/12 [00:00<00:00, 20.07it/s]\n",
      "100%|████████████████████████████████████████████████████████████████████████████████| 114/114 [00:15<00:00,  7.25it/s]\n",
      "100%|██████████████████████████████████████████████████████████████████████████████████| 12/12 [00:00<00:00, 19.94it/s]\n",
      "100%|████████████████████████████████████████████████████████████████████████████████| 114/114 [00:15<00:00,  7.32it/s]\n",
      "100%|██████████████████████████████████████████████████████████████████████████████████| 12/12 [00:00<00:00, 19.89it/s]\n",
      "100%|████████████████████████████████████████████████████████████████████████████████| 114/114 [00:15<00:00,  7.31it/s]\n",
      "100%|██████████████████████████████████████████████████████████████████████████████████| 12/12 [00:00<00:00, 20.23it/s]\n",
      "100%|████████████████████████████████████████████████████████████████████████████████| 114/114 [00:15<00:00,  7.35it/s]\n",
      "100%|██████████████████████████████████████████████████████████████████████████████████| 12/12 [00:00<00:00, 18.02it/s]\n",
      "100%|████████████████████████████████████████████████████████████████████████████████| 114/114 [00:18<00:00,  6.28it/s]\n",
      "100%|██████████████████████████████████████████████████████████████████████████████████| 12/12 [00:00<00:00, 18.97it/s]\n",
      "100%|████████████████████████████████████████████████████████████████████████████████| 114/114 [00:18<00:00,  6.30it/s]\n",
      "100%|██████████████████████████████████████████████████████████████████████████████████| 12/12 [00:00<00:00, 18.92it/s]\n",
      "100%|████████████████████████████████████████████████████████████████████████████████| 114/114 [00:18<00:00,  6.32it/s]\n",
      "100%|██████████████████████████████████████████████████████████████████████████████████| 12/12 [00:00<00:00, 16.81it/s]\n",
      "100%|████████████████████████████████████████████████████████████████████████████████| 114/114 [00:18<00:00,  6.27it/s]\n",
      "100%|██████████████████████████████████████████████████████████████████████████████████| 12/12 [00:00<00:00, 19.53it/s]\n",
      "100%|████████████████████████████████████████████████████████████████████████████████| 114/114 [00:18<00:00,  6.28it/s]\n",
      "100%|██████████████████████████████████████████████████████████████████████████████████| 12/12 [00:00<00:00, 18.87it/s]\n",
      "100%|████████████████████████████████████████████████████████████████████████████████| 114/114 [00:18<00:00,  6.31it/s]\n",
      "100%|██████████████████████████████████████████████████████████████████████████████████| 12/12 [00:00<00:00, 19.26it/s]\n",
      "100%|████████████████████████████████████████████████████████████████████████████████| 114/114 [00:18<00:00,  6.29it/s]\n",
      "100%|██████████████████████████████████████████████████████████████████████████████████| 12/12 [00:00<00:00, 18.87it/s]\n",
      "100%|████████████████████████████████████████████████████████████████████████████████| 114/114 [00:18<00:00,  6.31it/s]\n",
      "100%|██████████████████████████████████████████████████████████████████████████████████| 12/12 [00:00<00:00, 16.98it/s]\n",
      "100%|████████████████████████████████████████████████████████████████████████████████| 114/114 [00:18<00:00,  6.27it/s]\n",
      "100%|██████████████████████████████████████████████████████████████████████████████████| 12/12 [00:00<00:00, 18.90it/s]\n",
      "100%|████████████████████████████████████████████████████████████████████████████████| 114/114 [00:18<00:00,  6.23it/s]\n",
      "100%|██████████████████████████████████████████████████████████████████████████████████| 12/12 [00:00<00:00, 18.66it/s]\n",
      "100%|████████████████████████████████████████████████████████████████████████████████| 114/114 [00:18<00:00,  6.27it/s]\n",
      "100%|██████████████████████████████████████████████████████████████████████████████████| 12/12 [00:00<00:00, 17.58it/s]\n",
      "100%|████████████████████████████████████████████████████████████████████████████████| 114/114 [00:18<00:00,  6.31it/s]\n",
      "100%|██████████████████████████████████████████████████████████████████████████████████| 12/12 [00:00<00:00, 19.18it/s]\n",
      "100%|████████████████████████████████████████████████████████████████████████████████| 114/114 [00:18<00:00,  6.29it/s]\n",
      "100%|██████████████████████████████████████████████████████████████████████████████████| 12/12 [00:00<00:00, 18.65it/s]\n",
      "100%|████████████████████████████████████████████████████████████████████████████████| 114/114 [00:18<00:00,  6.31it/s]\n",
      "100%|██████████████████████████████████████████████████████████████████████████████████| 12/12 [00:00<00:00, 17.30it/s]\n",
      "100%|████████████████████████████████████████████████████████████████████████████████| 114/114 [00:18<00:00,  6.22it/s]\n",
      "100%|██████████████████████████████████████████████████████████████████████████████████| 12/12 [00:00<00:00, 18.95it/s]\n",
      "100%|████████████████████████████████████████████████████████████████████████████████| 114/114 [00:21<00:00,  5.39it/s]\n",
      "100%|██████████████████████████████████████████████████████████████████████████████████| 12/12 [00:00<00:00, 17.60it/s]\n",
      "100%|████████████████████████████████████████████████████████████████████████████████| 114/114 [00:21<00:00,  5.39it/s]\n",
      "100%|██████████████████████████████████████████████████████████████████████████████████| 12/12 [00:00<00:00, 16.07it/s]\n",
      "100%|████████████████████████████████████████████████████████████████████████████████| 114/114 [00:20<00:00,  5.43it/s]\n",
      "100%|██████████████████████████████████████████████████████████████████████████████████| 12/12 [00:00<00:00, 17.87it/s]\n",
      "100%|████████████████████████████████████████████████████████████████████████████████| 114/114 [00:21<00:00,  5.41it/s]\n",
      "100%|██████████████████████████████████████████████████████████████████████████████████| 12/12 [00:00<00:00, 18.10it/s]\n",
      "100%|████████████████████████████████████████████████████████████████████████████████| 114/114 [00:21<00:00,  5.43it/s]\n",
      "100%|██████████████████████████████████████████████████████████████████████████████████| 12/12 [00:00<00:00, 16.35it/s]\n",
      "100%|████████████████████████████████████████████████████████████████████████████████| 114/114 [00:21<00:00,  5.40it/s]\n",
      "100%|██████████████████████████████████████████████████████████████████████████████████| 12/12 [00:00<00:00, 17.92it/s]\n",
      "100%|████████████████████████████████████████████████████████████████████████████████| 114/114 [00:21<00:00,  5.40it/s]\n",
      "100%|██████████████████████████████████████████████████████████████████████████████████| 12/12 [00:00<00:00, 18.28it/s]\n",
      "100%|████████████████████████████████████████████████████████████████████████████████| 114/114 [00:20<00:00,  5.44it/s]\n",
      "100%|██████████████████████████████████████████████████████████████████████████████████| 12/12 [00:00<00:00, 16.09it/s]\n",
      "100%|████████████████████████████████████████████████████████████████████████████████| 114/114 [00:20<00:00,  5.44it/s]\n",
      "100%|██████████████████████████████████████████████████████████████████████████████████| 12/12 [00:00<00:00, 17.83it/s]\n",
      "100%|████████████████████████████████████████████████████████████████████████████████| 114/114 [00:21<00:00,  5.39it/s]\n",
      "100%|██████████████████████████████████████████████████████████████████████████████████| 12/12 [00:00<00:00, 17.49it/s]\n",
      "100%|████████████████████████████████████████████████████████████████████████████████| 114/114 [00:21<00:00,  5.42it/s]\n",
      "100%|██████████████████████████████████████████████████████████████████████████████████| 12/12 [00:00<00:00, 17.81it/s]\n",
      "100%|████████████████████████████████████████████████████████████████████████████████| 114/114 [00:20<00:00,  5.45it/s]\n",
      "100%|██████████████████████████████████████████████████████████████████████████████████| 12/12 [00:00<00:00, 17.47it/s]\n",
      "100%|████████████████████████████████████████████████████████████████████████████████| 114/114 [00:20<00:00,  5.46it/s]\n",
      "100%|██████████████████████████████████████████████████████████████████████████████████| 12/12 [00:00<00:00, 16.59it/s]\n",
      "100%|████████████████████████████████████████████████████████████████████████████████| 114/114 [00:20<00:00,  5.46it/s]\n",
      "100%|██████████████████████████████████████████████████████████████████████████████████| 12/12 [00:00<00:00, 17.58it/s]\n",
      "100%|████████████████████████████████████████████████████████████████████████████████| 114/114 [00:21<00:00,  5.41it/s]\n",
      "100%|██████████████████████████████████████████████████████████████████████████████████| 12/12 [00:00<00:00, 17.64it/s]\n",
      "100%|████████████████████████████████████████████████████████████████████████████████| 227/227 [00:53<00:00,  4.25it/s]\n",
      "100%|██████████████████████████████████████████████████████████████████████████████████| 24/24 [00:02<00:00, 10.85it/s]\n"
     ]
    },
    {
     "name": "stderr",
     "output_type": "stream",
     "text": [
      "100%|████████████████████████████████████████████████████████████████████████████████| 227/227 [00:53<00:00,  4.25it/s]\n",
      "100%|██████████████████████████████████████████████████████████████████████████████████| 24/24 [00:02<00:00, 10.61it/s]\n",
      "100%|████████████████████████████████████████████████████████████████████████████████| 227/227 [00:53<00:00,  4.25it/s]\n",
      "100%|██████████████████████████████████████████████████████████████████████████████████| 24/24 [00:02<00:00, 10.71it/s]\n",
      "100%|████████████████████████████████████████████████████████████████████████████████| 227/227 [00:53<00:00,  4.25it/s]\n",
      "100%|██████████████████████████████████████████████████████████████████████████████████| 24/24 [00:02<00:00, 10.52it/s]\n",
      "100%|████████████████████████████████████████████████████████████████████████████████| 227/227 [00:52<00:00,  4.29it/s]\n",
      "100%|██████████████████████████████████████████████████████████████████████████████████| 24/24 [00:02<00:00, 10.83it/s]\n",
      "100%|████████████████████████████████████████████████████████████████████████████████| 227/227 [00:53<00:00,  4.25it/s]\n",
      "100%|██████████████████████████████████████████████████████████████████████████████████| 24/24 [00:02<00:00, 10.96it/s]\n",
      "100%|████████████████████████████████████████████████████████████████████████████████| 227/227 [00:53<00:00,  4.26it/s]\n",
      "100%|██████████████████████████████████████████████████████████████████████████████████| 24/24 [00:02<00:00, 10.92it/s]\n",
      "100%|████████████████████████████████████████████████████████████████████████████████| 227/227 [00:53<00:00,  4.24it/s]\n",
      "100%|██████████████████████████████████████████████████████████████████████████████████| 24/24 [00:02<00:00, 10.91it/s]\n",
      "100%|████████████████████████████████████████████████████████████████████████████████| 227/227 [00:53<00:00,  4.27it/s]\n",
      "100%|██████████████████████████████████████████████████████████████████████████████████| 24/24 [00:02<00:00, 10.96it/s]\n",
      "100%|████████████████████████████████████████████████████████████████████████████████| 227/227 [00:53<00:00,  4.26it/s]\n",
      "100%|██████████████████████████████████████████████████████████████████████████████████| 24/24 [00:02<00:00, 10.77it/s]\n",
      "100%|████████████████████████████████████████████████████████████████████████████████| 227/227 [00:53<00:00,  4.26it/s]\n",
      "100%|██████████████████████████████████████████████████████████████████████████████████| 24/24 [00:02<00:00, 10.91it/s]\n",
      "100%|████████████████████████████████████████████████████████████████████████████████| 227/227 [00:53<00:00,  4.26it/s]\n",
      "100%|██████████████████████████████████████████████████████████████████████████████████| 24/24 [00:02<00:00, 10.91it/s]\n",
      "100%|████████████████████████████████████████████████████████████████████████████████| 227/227 [00:53<00:00,  4.25it/s]\n",
      "100%|██████████████████████████████████████████████████████████████████████████████████| 24/24 [00:02<00:00, 10.84it/s]\n",
      "100%|████████████████████████████████████████████████████████████████████████████████| 227/227 [00:53<00:00,  4.26it/s]\n",
      "100%|██████████████████████████████████████████████████████████████████████████████████| 24/24 [00:02<00:00, 10.91it/s]\n",
      "100%|████████████████████████████████████████████████████████████████████████████████| 227/227 [00:53<00:00,  4.26it/s]\n",
      "100%|██████████████████████████████████████████████████████████████████████████████████| 24/24 [00:02<00:00, 10.83it/s]\n",
      "100%|████████████████████████████████████████████████████████████████████████████████| 227/227 [01:04<00:00,  3.53it/s]\n",
      "100%|██████████████████████████████████████████████████████████████████████████████████| 24/24 [00:02<00:00,  9.83it/s]\n",
      "100%|████████████████████████████████████████████████████████████████████████████████| 227/227 [01:04<00:00,  3.54it/s]\n",
      "100%|██████████████████████████████████████████████████████████████████████████████████| 24/24 [00:02<00:00,  9.93it/s]\n",
      "100%|████████████████████████████████████████████████████████████████████████████████| 227/227 [01:04<00:00,  3.55it/s]\n",
      "100%|██████████████████████████████████████████████████████████████████████████████████| 24/24 [00:02<00:00,  9.46it/s]\n",
      "100%|████████████████████████████████████████████████████████████████████████████████| 227/227 [01:04<00:00,  3.54it/s]\n",
      "100%|██████████████████████████████████████████████████████████████████████████████████| 24/24 [00:02<00:00,  9.92it/s]\n",
      "100%|████████████████████████████████████████████████████████████████████████████████| 227/227 [01:04<00:00,  3.52it/s]\n",
      "100%|██████████████████████████████████████████████████████████████████████████████████| 24/24 [00:02<00:00,  9.82it/s]\n",
      "100%|████████████████████████████████████████████████████████████████████████████████| 227/227 [01:04<00:00,  3.53it/s]\n",
      "100%|██████████████████████████████████████████████████████████████████████████████████| 24/24 [00:02<00:00,  9.92it/s]\n",
      "100%|████████████████████████████████████████████████████████████████████████████████| 227/227 [01:04<00:00,  3.54it/s]\n",
      "100%|██████████████████████████████████████████████████████████████████████████████████| 24/24 [00:02<00:00,  9.95it/s]\n",
      "100%|████████████████████████████████████████████████████████████████████████████████| 227/227 [01:04<00:00,  3.53it/s]\n",
      "100%|██████████████████████████████████████████████████████████████████████████████████| 24/24 [00:02<00:00,  9.71it/s]\n",
      "100%|████████████████████████████████████████████████████████████████████████████████| 227/227 [01:04<00:00,  3.53it/s]\n",
      "100%|██████████████████████████████████████████████████████████████████████████████████| 24/24 [00:02<00:00, 10.01it/s]\n",
      "100%|████████████████████████████████████████████████████████████████████████████████| 227/227 [01:04<00:00,  3.53it/s]\n",
      "100%|██████████████████████████████████████████████████████████████████████████████████| 24/24 [00:02<00:00,  9.81it/s]\n",
      "100%|████████████████████████████████████████████████████████████████████████████████| 227/227 [01:04<00:00,  3.55it/s]\n",
      "100%|██████████████████████████████████████████████████████████████████████████████████| 24/24 [00:02<00:00,  9.45it/s]\n",
      "100%|████████████████████████████████████████████████████████████████████████████████| 227/227 [01:04<00:00,  3.52it/s]\n",
      "100%|██████████████████████████████████████████████████████████████████████████████████| 24/24 [00:02<00:00,  9.83it/s]\n",
      "100%|████████████████████████████████████████████████████████████████████████████████| 227/227 [01:04<00:00,  3.52it/s]\n",
      "100%|██████████████████████████████████████████████████████████████████████████████████| 24/24 [00:02<00:00,  9.71it/s]\n",
      "100%|████████████████████████████████████████████████████████████████████████████████| 227/227 [01:04<00:00,  3.51it/s]\n",
      "100%|██████████████████████████████████████████████████████████████████████████████████| 24/24 [00:02<00:00,  9.79it/s]\n",
      "100%|████████████████████████████████████████████████████████████████████████████████| 227/227 [01:04<00:00,  3.53it/s]\n",
      "100%|██████████████████████████████████████████████████████████████████████████████████| 24/24 [00:02<00:00,  9.68it/s]\n",
      "100%|████████████████████████████████████████████████████████████████████████████████| 227/227 [01:17<00:00,  2.94it/s]\n",
      "100%|██████████████████████████████████████████████████████████████████████████████████| 24/24 [00:02<00:00,  8.73it/s]\n",
      "100%|████████████████████████████████████████████████████████████████████████████████| 227/227 [01:16<00:00,  2.96it/s]\n",
      "100%|██████████████████████████████████████████████████████████████████████████████████| 24/24 [00:02<00:00,  8.66it/s]\n",
      "100%|████████████████████████████████████████████████████████████████████████████████| 227/227 [01:16<00:00,  2.95it/s]\n",
      "100%|██████████████████████████████████████████████████████████████████████████████████| 24/24 [00:02<00:00,  8.48it/s]\n",
      "100%|████████████████████████████████████████████████████████████████████████████████| 227/227 [01:18<00:00,  2.90it/s]\n",
      "100%|██████████████████████████████████████████████████████████████████████████████████| 24/24 [00:02<00:00,  8.35it/s]\n",
      "100%|████████████████████████████████████████████████████████████████████████████████| 227/227 [01:17<00:00,  2.91it/s]\n",
      "100%|██████████████████████████████████████████████████████████████████████████████████| 24/24 [00:02<00:00,  8.39it/s]\n",
      "100%|████████████████████████████████████████████████████████████████████████████████| 227/227 [01:17<00:00,  2.92it/s]\n",
      "100%|██████████████████████████████████████████████████████████████████████████████████| 24/24 [00:02<00:00,  8.70it/s]\n",
      "100%|████████████████████████████████████████████████████████████████████████████████| 227/227 [01:17<00:00,  2.92it/s]\n",
      "100%|██████████████████████████████████████████████████████████████████████████████████| 24/24 [00:02<00:00,  8.70it/s]\n",
      "100%|████████████████████████████████████████████████████████████████████████████████| 227/227 [01:16<00:00,  2.96it/s]\n",
      "100%|██████████████████████████████████████████████████████████████████████████████████| 24/24 [00:02<00:00,  8.69it/s]\n",
      "100%|████████████████████████████████████████████████████████████████████████████████| 227/227 [01:16<00:00,  2.96it/s]\n",
      "100%|██████████████████████████████████████████████████████████████████████████████████| 24/24 [00:02<00:00,  8.62it/s]\n",
      "100%|████████████████████████████████████████████████████████████████████████████████| 227/227 [01:17<00:00,  2.95it/s]\n",
      "100%|██████████████████████████████████████████████████████████████████████████████████| 24/24 [00:02<00:00,  8.61it/s]\n",
      "100%|████████████████████████████████████████████████████████████████████████████████| 227/227 [01:16<00:00,  2.96it/s]\n",
      "100%|██████████████████████████████████████████████████████████████████████████████████| 24/24 [00:02<00:00,  8.64it/s]\n",
      "100%|████████████████████████████████████████████████████████████████████████████████| 227/227 [01:16<00:00,  2.96it/s]\n",
      "100%|██████████████████████████████████████████████████████████████████████████████████| 24/24 [00:02<00:00,  8.47it/s]\n",
      "100%|████████████████████████████████████████████████████████████████████████████████| 227/227 [01:16<00:00,  2.96it/s]\n",
      "100%|██████████████████████████████████████████████████████████████████████████████████| 24/24 [00:02<00:00,  8.72it/s]\n",
      "100%|████████████████████████████████████████████████████████████████████████████████| 227/227 [01:17<00:00,  2.94it/s]\n",
      "100%|██████████████████████████████████████████████████████████████████████████████████| 24/24 [00:02<00:00,  8.54it/s]\n",
      "100%|████████████████████████████████████████████████████████████████████████████████| 227/227 [01:16<00:00,  2.95it/s]\n",
      "100%|██████████████████████████████████████████████████████████████████████████████████| 24/24 [00:02<00:00,  8.58it/s]\n",
      "100%|████████████████████████████████████████████████████████████████████████████████| 151/151 [00:38<00:00,  3.89it/s]\n",
      "100%|██████████████████████████████████████████████████████████████████████████████████| 16/16 [00:01<00:00, 10.41it/s]\n",
      "100%|████████████████████████████████████████████████████████████████████████████████| 151/151 [00:38<00:00,  3.93it/s]\n",
      "100%|██████████████████████████████████████████████████████████████████████████████████| 16/16 [00:01<00:00,  9.81it/s]\n",
      "100%|████████████████████████████████████████████████████████████████████████████████| 151/151 [00:38<00:00,  3.92it/s]\n",
      "100%|██████████████████████████████████████████████████████████████████████████████████| 16/16 [00:01<00:00, 10.20it/s]\n",
      "100%|████████████████████████████████████████████████████████████████████████████████| 151/151 [00:38<00:00,  3.93it/s]\n",
      "100%|██████████████████████████████████████████████████████████████████████████████████| 16/16 [00:01<00:00,  9.95it/s]\n",
      "100%|████████████████████████████████████████████████████████████████████████████████| 151/151 [00:38<00:00,  3.93it/s]\n",
      "100%|██████████████████████████████████████████████████████████████████████████████████| 16/16 [00:01<00:00, 10.26it/s]\n",
      "100%|████████████████████████████████████████████████████████████████████████████████| 151/151 [00:38<00:00,  3.91it/s]\n",
      "100%|██████████████████████████████████████████████████████████████████████████████████| 16/16 [00:01<00:00, 10.35it/s]\n",
      "100%|████████████████████████████████████████████████████████████████████████████████| 151/151 [00:38<00:00,  3.92it/s]\n",
      "100%|██████████████████████████████████████████████████████████████████████████████████| 16/16 [00:01<00:00, 10.39it/s]\n",
      "100%|████████████████████████████████████████████████████████████████████████████████| 151/151 [00:38<00:00,  3.92it/s]\n",
      "100%|██████████████████████████████████████████████████████████████████████████████████| 16/16 [00:01<00:00, 10.18it/s]\n",
      "100%|████████████████████████████████████████████████████████████████████████████████| 151/151 [00:38<00:00,  3.92it/s]\n",
      "100%|██████████████████████████████████████████████████████████████████████████████████| 16/16 [00:01<00:00, 10.19it/s]\n",
      "100%|████████████████████████████████████████████████████████████████████████████████| 151/151 [00:38<00:00,  3.92it/s]\n",
      "100%|██████████████████████████████████████████████████████████████████████████████████| 16/16 [00:01<00:00, 10.01it/s]\n",
      "100%|████████████████████████████████████████████████████████████████████████████████| 151/151 [00:38<00:00,  3.93it/s]\n",
      "100%|██████████████████████████████████████████████████████████████████████████████████| 16/16 [00:01<00:00, 10.23it/s]\n",
      "100%|████████████████████████████████████████████████████████████████████████████████| 151/151 [00:38<00:00,  3.92it/s]\n",
      "100%|██████████████████████████████████████████████████████████████████████████████████| 16/16 [00:01<00:00, 10.36it/s]\n",
      "100%|████████████████████████████████████████████████████████████████████████████████| 151/151 [00:38<00:00,  3.92it/s]\n",
      "100%|██████████████████████████████████████████████████████████████████████████████████| 16/16 [00:01<00:00,  9.89it/s]\n",
      "100%|████████████████████████████████████████████████████████████████████████████████| 151/151 [00:38<00:00,  3.91it/s]\n",
      "100%|██████████████████████████████████████████████████████████████████████████████████| 16/16 [00:01<00:00, 10.21it/s]\n",
      "100%|████████████████████████████████████████████████████████████████████████████████| 151/151 [00:38<00:00,  3.93it/s]\n",
      "100%|██████████████████████████████████████████████████████████████████████████████████| 16/16 [00:01<00:00, 10.37it/s]\n",
      "100%|████████████████████████████████████████████████████████████████████████████████| 151/151 [00:46<00:00,  3.23it/s]\n",
      "100%|██████████████████████████████████████████████████████████████████████████████████| 16/16 [00:01<00:00,  9.19it/s]\n",
      "100%|████████████████████████████████████████████████████████████████████████████████| 151/151 [00:46<00:00,  3.22it/s]\n",
      "100%|██████████████████████████████████████████████████████████████████████████████████| 16/16 [00:01<00:00,  9.30it/s]\n",
      "100%|████████████████████████████████████████████████████████████████████████████████| 151/151 [00:46<00:00,  3.23it/s]\n",
      "100%|██████████████████████████████████████████████████████████████████████████████████| 16/16 [00:01<00:00,  8.94it/s]\n",
      "100%|████████████████████████████████████████████████████████████████████████████████| 151/151 [00:47<00:00,  3.21it/s]\n",
      "100%|██████████████████████████████████████████████████████████████████████████████████| 16/16 [00:01<00:00,  9.31it/s]\n",
      "100%|████████████████████████████████████████████████████████████████████████████████| 151/151 [00:46<00:00,  3.22it/s]\n",
      "100%|██████████████████████████████████████████████████████████████████████████████████| 16/16 [00:01<00:00,  9.14it/s]\n",
      "100%|████████████████████████████████████████████████████████████████████████████████| 151/151 [00:46<00:00,  3.22it/s]\n",
      "100%|██████████████████████████████████████████████████████████████████████████████████| 16/16 [00:01<00:00,  9.03it/s]\n",
      "100%|████████████████████████████████████████████████████████████████████████████████| 151/151 [00:46<00:00,  3.24it/s]\n",
      "100%|██████████████████████████████████████████████████████████████████████████████████| 16/16 [00:01<00:00,  9.38it/s]\n",
      "100%|████████████████████████████████████████████████████████████████████████████████| 151/151 [00:46<00:00,  3.24it/s]\n",
      "100%|██████████████████████████████████████████████████████████████████████████████████| 16/16 [00:01<00:00,  9.18it/s]\n",
      "100%|████████████████████████████████████████████████████████████████████████████████| 151/151 [00:46<00:00,  3.24it/s]\n",
      "100%|██████████████████████████████████████████████████████████████████████████████████| 16/16 [00:01<00:00,  9.29it/s]\n"
     ]
    },
    {
     "name": "stderr",
     "output_type": "stream",
     "text": [
      "100%|████████████████████████████████████████████████████████████████████████████████| 151/151 [00:46<00:00,  3.23it/s]\n",
      "100%|██████████████████████████████████████████████████████████████████████████████████| 16/16 [00:01<00:00,  9.02it/s]\n",
      "100%|████████████████████████████████████████████████████████████████████████████████| 151/151 [00:46<00:00,  3.25it/s]\n",
      "100%|██████████████████████████████████████████████████████████████████████████████████| 16/16 [00:01<00:00,  8.98it/s]\n",
      "100%|████████████████████████████████████████████████████████████████████████████████| 151/151 [00:46<00:00,  3.25it/s]\n",
      "100%|██████████████████████████████████████████████████████████████████████████████████| 16/16 [00:01<00:00,  9.34it/s]\n",
      "100%|████████████████████████████████████████████████████████████████████████████████| 151/151 [00:46<00:00,  3.24it/s]\n",
      "100%|██████████████████████████████████████████████████████████████████████████████████| 16/16 [00:01<00:00,  9.36it/s]\n",
      "100%|████████████████████████████████████████████████████████████████████████████████| 151/151 [00:46<00:00,  3.23it/s]\n",
      "100%|██████████████████████████████████████████████████████████████████████████████████| 16/16 [00:01<00:00,  8.85it/s]\n",
      "100%|████████████████████████████████████████████████████████████████████████████████| 151/151 [00:46<00:00,  3.23it/s]\n",
      "100%|██████████████████████████████████████████████████████████████████████████████████| 16/16 [00:01<00:00,  9.24it/s]\n",
      "100%|████████████████████████████████████████████████████████████████████████████████| 151/151 [00:55<00:00,  2.71it/s]\n",
      "100%|██████████████████████████████████████████████████████████████████████████████████| 16/16 [00:01<00:00,  8.06it/s]\n",
      "100%|████████████████████████████████████████████████████████████████████████████████| 151/151 [00:55<00:00,  2.73it/s]\n",
      "100%|██████████████████████████████████████████████████████████████████████████████████| 16/16 [00:01<00:00,  8.21it/s]\n",
      "100%|████████████████████████████████████████████████████████████████████████████████| 151/151 [00:55<00:00,  2.73it/s]\n",
      "100%|██████████████████████████████████████████████████████████████████████████████████| 16/16 [00:01<00:00,  8.04it/s]\n",
      "100%|████████████████████████████████████████████████████████████████████████████████| 151/151 [00:55<00:00,  2.73it/s]\n",
      "100%|██████████████████████████████████████████████████████████████████████████████████| 16/16 [00:01<00:00,  8.13it/s]\n",
      "100%|████████████████████████████████████████████████████████████████████████████████| 151/151 [00:55<00:00,  2.72it/s]\n",
      "100%|██████████████████████████████████████████████████████████████████████████████████| 16/16 [00:01<00:00,  8.03it/s]\n",
      "100%|████████████████████████████████████████████████████████████████████████████████| 151/151 [00:55<00:00,  2.72it/s]\n",
      "100%|██████████████████████████████████████████████████████████████████████████████████| 16/16 [00:01<00:00,  8.24it/s]\n",
      "100%|████████████████████████████████████████████████████████████████████████████████| 151/151 [00:55<00:00,  2.71it/s]\n",
      "100%|██████████████████████████████████████████████████████████████████████████████████| 16/16 [00:02<00:00,  7.91it/s]\n",
      "100%|████████████████████████████████████████████████████████████████████████████████| 151/151 [00:55<00:00,  2.73it/s]\n",
      "100%|██████████████████████████████████████████████████████████████████████████████████| 16/16 [00:01<00:00,  8.08it/s]\n",
      "100%|████████████████████████████████████████████████████████████████████████████████| 151/151 [00:55<00:00,  2.72it/s]\n",
      "100%|██████████████████████████████████████████████████████████████████████████████████| 16/16 [00:01<00:00,  8.20it/s]\n",
      "100%|████████████████████████████████████████████████████████████████████████████████| 151/151 [00:55<00:00,  2.74it/s]\n",
      "100%|██████████████████████████████████████████████████████████████████████████████████| 16/16 [00:01<00:00,  8.03it/s]\n",
      "100%|████████████████████████████████████████████████████████████████████████████████| 151/151 [00:55<00:00,  2.73it/s]\n",
      "100%|██████████████████████████████████████████████████████████████████████████████████| 16/16 [00:01<00:00,  8.14it/s]\n",
      "100%|████████████████████████████████████████████████████████████████████████████████| 151/151 [00:55<00:00,  2.73it/s]\n",
      "100%|██████████████████████████████████████████████████████████████████████████████████| 16/16 [00:01<00:00,  8.09it/s]\n",
      "100%|████████████████████████████████████████████████████████████████████████████████| 151/151 [00:55<00:00,  2.73it/s]\n",
      "100%|██████████████████████████████████████████████████████████████████████████████████| 16/16 [00:01<00:00,  8.17it/s]\n",
      "100%|████████████████████████████████████████████████████████████████████████████████| 151/151 [00:55<00:00,  2.73it/s]\n",
      "100%|██████████████████████████████████████████████████████████████████████████████████| 16/16 [00:01<00:00,  8.13it/s]\n",
      "100%|████████████████████████████████████████████████████████████████████████████████| 151/151 [00:55<00:00,  2.72it/s]\n",
      "100%|██████████████████████████████████████████████████████████████████████████████████| 16/16 [00:01<00:00,  8.23it/s]\n",
      "100%|████████████████████████████████████████████████████████████████████████████████| 114/114 [00:31<00:00,  3.68it/s]\n",
      "100%|██████████████████████████████████████████████████████████████████████████████████| 12/12 [00:01<00:00,  9.13it/s]\n",
      "100%|████████████████████████████████████████████████████████████████████████████████| 114/114 [00:30<00:00,  3.69it/s]\n",
      "100%|██████████████████████████████████████████████████████████████████████████████████| 12/12 [00:01<00:00,  9.78it/s]\n",
      "100%|████████████████████████████████████████████████████████████████████████████████| 114/114 [00:31<00:00,  3.68it/s]\n",
      "100%|██████████████████████████████████████████████████████████████████████████████████| 12/12 [00:01<00:00,  9.76it/s]\n",
      "100%|████████████████████████████████████████████████████████████████████████████████| 114/114 [00:31<00:00,  3.67it/s]\n",
      "100%|██████████████████████████████████████████████████████████████████████████████████| 12/12 [00:01<00:00,  9.54it/s]\n",
      "100%|████████████████████████████████████████████████████████████████████████████████| 114/114 [00:31<00:00,  3.67it/s]\n",
      "100%|██████████████████████████████████████████████████████████████████████████████████| 12/12 [00:01<00:00,  9.83it/s]\n",
      "100%|████████████████████████████████████████████████████████████████████████████████| 114/114 [00:30<00:00,  3.70it/s]\n",
      "100%|██████████████████████████████████████████████████████████████████████████████████| 12/12 [00:01<00:00,  9.18it/s]\n",
      "100%|████████████████████████████████████████████████████████████████████████████████| 114/114 [00:30<00:00,  3.69it/s]\n",
      "100%|██████████████████████████████████████████████████████████████████████████████████| 12/12 [00:01<00:00,  9.43it/s]\n",
      "100%|████████████████████████████████████████████████████████████████████████████████| 114/114 [00:30<00:00,  3.68it/s]\n",
      "100%|██████████████████████████████████████████████████████████████████████████████████| 12/12 [00:01<00:00,  9.78it/s]\n",
      "100%|████████████████████████████████████████████████████████████████████████████████| 114/114 [00:30<00:00,  3.70it/s]\n",
      "100%|██████████████████████████████████████████████████████████████████████████████████| 12/12 [00:01<00:00,  9.70it/s]\n",
      "100%|████████████████████████████████████████████████████████████████████████████████| 114/114 [00:30<00:00,  3.70it/s]\n",
      "100%|██████████████████████████████████████████████████████████████████████████████████| 12/12 [00:01<00:00,  9.87it/s]\n",
      "100%|████████████████████████████████████████████████████████████████████████████████| 114/114 [00:30<00:00,  3.69it/s]\n",
      "100%|██████████████████████████████████████████████████████████████████████████████████| 12/12 [00:01<00:00,  9.64it/s]\n",
      "100%|████████████████████████████████████████████████████████████████████████████████| 114/114 [00:30<00:00,  3.68it/s]\n",
      "100%|██████████████████████████████████████████████████████████████████████████████████| 12/12 [00:01<00:00,  9.10it/s]\n",
      "100%|████████████████████████████████████████████████████████████████████████████████| 114/114 [00:31<00:00,  3.67it/s]\n",
      "100%|██████████████████████████████████████████████████████████████████████████████████| 12/12 [00:01<00:00,  9.10it/s]\n",
      "100%|████████████████████████████████████████████████████████████████████████████████| 114/114 [00:31<00:00,  3.66it/s]\n",
      "100%|██████████████████████████████████████████████████████████████████████████████████| 12/12 [00:01<00:00,  9.24it/s]\n",
      "100%|████████████████████████████████████████████████████████████████████████████████| 114/114 [00:31<00:00,  3.68it/s]\n",
      "100%|██████████████████████████████████████████████████████████████████████████████████| 12/12 [00:01<00:00,  9.60it/s]\n",
      "100%|████████████████████████████████████████████████████████████████████████████████| 114/114 [00:37<00:00,  3.03it/s]\n",
      "100%|██████████████████████████████████████████████████████████████████████████████████| 12/12 [00:01<00:00,  8.75it/s]\n",
      "100%|████████████████████████████████████████████████████████████████████████████████| 114/114 [00:37<00:00,  3.07it/s]\n",
      "100%|██████████████████████████████████████████████████████████████████████████████████| 12/12 [00:01<00:00,  8.74it/s]\n",
      "100%|████████████████████████████████████████████████████████████████████████████████| 114/114 [00:37<00:00,  3.05it/s]\n",
      "100%|██████████████████████████████████████████████████████████████████████████████████| 12/12 [00:01<00:00,  8.73it/s]\n",
      "100%|████████████████████████████████████████████████████████████████████████████████| 114/114 [00:37<00:00,  3.07it/s]\n",
      "100%|██████████████████████████████████████████████████████████████████████████████████| 12/12 [00:01<00:00,  8.28it/s]\n",
      "100%|████████████████████████████████████████████████████████████████████████████████| 114/114 [00:37<00:00,  3.07it/s]\n",
      "100%|██████████████████████████████████████████████████████████████████████████████████| 12/12 [00:01<00:00,  8.78it/s]\n",
      "100%|████████████████████████████████████████████████████████████████████████████████| 114/114 [00:37<00:00,  3.06it/s]\n",
      "100%|██████████████████████████████████████████████████████████████████████████████████| 12/12 [00:01<00:00,  8.19it/s]\n",
      "100%|████████████████████████████████████████████████████████████████████████████████| 114/114 [00:37<00:00,  3.06it/s]\n",
      "100%|██████████████████████████████████████████████████████████████████████████████████| 12/12 [00:01<00:00,  8.92it/s]\n",
      "100%|████████████████████████████████████████████████████████████████████████████████| 114/114 [00:37<00:00,  3.06it/s]\n",
      "100%|██████████████████████████████████████████████████████████████████████████████████| 12/12 [00:01<00:00,  8.59it/s]\n",
      "100%|████████████████████████████████████████████████████████████████████████████████| 114/114 [00:37<00:00,  3.05it/s]\n",
      "100%|██████████████████████████████████████████████████████████████████████████████████| 12/12 [00:01<00:00,  8.72it/s]\n",
      "100%|████████████████████████████████████████████████████████████████████████████████| 114/114 [00:37<00:00,  3.05it/s]\n",
      "100%|██████████████████████████████████████████████████████████████████████████████████| 12/12 [00:01<00:00,  8.75it/s]\n",
      "100%|████████████████████████████████████████████████████████████████████████████████| 114/114 [00:37<00:00,  3.07it/s]\n",
      "100%|██████████████████████████████████████████████████████████████████████████████████| 12/12 [00:01<00:00,  8.77it/s]\n",
      "100%|████████████████████████████████████████████████████████████████████████████████| 114/114 [00:37<00:00,  3.06it/s]\n",
      "100%|██████████████████████████████████████████████████████████████████████████████████| 12/12 [00:01<00:00,  8.73it/s]\n",
      "100%|████████████████████████████████████████████████████████████████████████████████| 114/114 [00:37<00:00,  3.06it/s]\n",
      "100%|██████████████████████████████████████████████████████████████████████████████████| 12/12 [00:01<00:00,  8.73it/s]\n",
      "100%|████████████████████████████████████████████████████████████████████████████████| 114/114 [00:37<00:00,  3.05it/s]\n",
      "100%|██████████████████████████████████████████████████████████████████████████████████| 12/12 [00:01<00:00,  8.74it/s]\n",
      "100%|████████████████████████████████████████████████████████████████████████████████| 114/114 [00:37<00:00,  3.06it/s]\n",
      "100%|██████████████████████████████████████████████████████████████████████████████████| 12/12 [00:01<00:00,  8.83it/s]\n",
      "100%|████████████████████████████████████████████████████████████████████████████████| 114/114 [00:44<00:00,  2.58it/s]\n",
      "100%|██████████████████████████████████████████████████████████████████████████████████| 12/12 [00:01<00:00,  7.70it/s]\n",
      "100%|████████████████████████████████████████████████████████████████████████████████| 114/114 [00:44<00:00,  2.58it/s]\n",
      "100%|██████████████████████████████████████████████████████████████████████████████████| 12/12 [00:01<00:00,  7.69it/s]\n",
      "100%|████████████████████████████████████████████████████████████████████████████████| 114/114 [00:44<00:00,  2.58it/s]\n",
      "100%|██████████████████████████████████████████████████████████████████████████████████| 12/12 [00:01<00:00,  7.80it/s]\n",
      "100%|████████████████████████████████████████████████████████████████████████████████| 114/114 [00:44<00:00,  2.59it/s]\n",
      "100%|██████████████████████████████████████████████████████████████████████████████████| 12/12 [00:01<00:00,  7.81it/s]\n",
      "100%|████████████████████████████████████████████████████████████████████████████████| 114/114 [00:44<00:00,  2.58it/s]\n",
      "100%|██████████████████████████████████████████████████████████████████████████████████| 12/12 [00:01<00:00,  7.86it/s]\n",
      "100%|████████████████████████████████████████████████████████████████████████████████| 114/114 [00:44<00:00,  2.59it/s]\n",
      "100%|██████████████████████████████████████████████████████████████████████████████████| 12/12 [00:01<00:00,  7.34it/s]\n",
      "100%|████████████████████████████████████████████████████████████████████████████████| 114/114 [00:44<00:00,  2.58it/s]\n",
      "100%|██████████████████████████████████████████████████████████████████████████████████| 12/12 [00:01<00:00,  7.65it/s]\n",
      "100%|████████████████████████████████████████████████████████████████████████████████| 114/114 [00:44<00:00,  2.59it/s]\n",
      "100%|██████████████████████████████████████████████████████████████████████████████████| 12/12 [00:01<00:00,  7.77it/s]\n",
      "100%|████████████████████████████████████████████████████████████████████████████████| 114/114 [00:44<00:00,  2.58it/s]\n",
      "100%|██████████████████████████████████████████████████████████████████████████████████| 12/12 [00:01<00:00,  7.86it/s]\n",
      "100%|████████████████████████████████████████████████████████████████████████████████| 114/114 [00:44<00:00,  2.57it/s]\n",
      "100%|██████████████████████████████████████████████████████████████████████████████████| 12/12 [00:01<00:00,  7.75it/s]\n",
      "100%|████████████████████████████████████████████████████████████████████████████████| 114/114 [00:44<00:00,  2.59it/s]\n",
      "100%|██████████████████████████████████████████████████████████████████████████████████| 12/12 [00:01<00:00,  7.28it/s]\n",
      "100%|████████████████████████████████████████████████████████████████████████████████| 114/114 [00:44<00:00,  2.58it/s]\n",
      "100%|██████████████████████████████████████████████████████████████████████████████████| 12/12 [00:01<00:00,  7.87it/s]\n",
      "100%|████████████████████████████████████████████████████████████████████████████████| 114/114 [00:44<00:00,  2.59it/s]\n",
      "100%|██████████████████████████████████████████████████████████████████████████████████| 12/12 [00:01<00:00,  7.76it/s]\n",
      "100%|████████████████████████████████████████████████████████████████████████████████| 114/114 [00:44<00:00,  2.57it/s]\n",
      "100%|██████████████████████████████████████████████████████████████████████████████████| 12/12 [00:01<00:00,  7.49it/s]\n",
      "100%|████████████████████████████████████████████████████████████████████████████████| 114/114 [00:43<00:00,  2.60it/s]\n",
      "100%|██████████████████████████████████████████████████████████████████████████████████| 12/12 [00:01<00:00,  7.82it/s]\n"
     ]
    }
   ],
   "source": [
    "layers = [1,2] # Ebenen des Encoders\n",
    "batchsizes = [400, 600, 800] # Batch-Size für das Sampling\n",
    "hiddendims = [4, 6, 8] # Länge des Vektors für einen Knoten\n",
    "NUM_EPOCHS = 15\n",
    "NUM_RATINGS = len(set(trainset['rating']))\n",
    "\n",
    "evalDf = pd.DataFrame()\n",
    "\n",
    "for layer in layers:\n",
    "    for batchsize in batchsizes:\n",
    "        for hiddendim in hiddendims:\n",
    "            # Startzeit\n",
    "            start = timer() \n",
    "            \n",
    "            #definiere Trainingsloop anhand der momentanen Hyper-Parameter\n",
    "            rmse = trainingLoop(layer, batchsize, NUM_EPOCHS, hiddendim, NUM_RATINGS, printing = False)\n",
    "            \n",
    "            # Berechnungszeit in Sekunden (mit 3 Nachkommastellen)\n",
    "            end = timer() # Ende Stoppuhr\n",
    "            timerSeconds = timedelta(seconds=end-start).total_seconds()  # Berechne Zeit\n",
    "            time = math.ceil(timerSeconds*10)/10 # Runden\n",
    "            \n",
    "            # speichere RMSE der Hyper-Parameter und die Parameter selbst\n",
    "            evalDf = evalDf.append([{'Ebenen' : layer,'Batchgroesse' : batchsize,\n",
    "                                     'Hiddendims' : hiddendim,'Epochs' : NUM_EPOCHS,\n",
    "                                     'RMSE' : rmse, 'Zeit (s)' : time}], ignore_index=True)\n",
    "evalDf.to_csv(r'MovieLens+Feature-10.csv')\n",
    "\n",
    "#Für die Ausgabe der 'besten' Hyper-Parameter          \n",
    "bestRMSE = min(evalDf['RMSE']) # ermittle niedrigsten RMSE\n",
    "zeile = list(evalDf['RMSE']).index(bestRMSE) # ermittle Zeile\n",
    "print('Niedrigster RMSE-Wert  mit folgenden Hyper-Parametern: \\n', evalDf.loc[[zeile]])"
   ]
  }
 ],
 "metadata": {
  "kernelspec": {
   "display_name": "Python 3",
   "language": "python",
   "name": "python3"
  },
  "language_info": {
   "codemirror_mode": {
    "name": "ipython",
    "version": 3
   },
   "file_extension": ".py",
   "mimetype": "text/x-python",
   "name": "python",
   "nbconvert_exporter": "python",
   "pygments_lexer": "ipython3",
   "version": "3.8.5"
  }
 },
 "nbformat": 4,
 "nbformat_minor": 4
}
